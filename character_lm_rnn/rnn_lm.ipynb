{
 "cells": [
  {
   "cell_type": "markdown",
   "metadata": {},
   "source": [
    "## Language modeling with RNN"
   ]
  },
  {
   "cell_type": "markdown",
   "metadata": {},
   "source": [
    "Language models on the materials of **Sigmorphon 2018 Shared Task** for Russian dataset"
   ]
  },
  {
   "cell_type": "code",
   "execution_count": 20,
   "metadata": {},
   "outputs": [],
   "source": [
    "#!wget https://raw.githubusercontent.com/sigmorphon/conll2018/master/task1/surprise/russian-train-high\n",
    "#!wget https://raw.githubusercontent.com/sigmorphon/conll2018/master/task1/surprise/russian-dev\n",
    "#!wget https://raw.githubusercontent.com/sigmorphon/conll2018/master/task1/surprise/russian-test"
   ]
  },
  {
   "cell_type": "code",
   "execution_count": 1,
   "metadata": {},
   "outputs": [],
   "source": [
    "from torch import optim\n",
    "from torch.optim import lr_scheduler\n",
    "import matplotlib.pyplot as plt\n",
    "%matplotlib inline"
   ]
  },
  {
   "cell_type": "markdown",
   "metadata": {},
   "source": [
    "### Read words"
   ]
  },
  {
   "cell_type": "code",
   "execution_count": 2,
   "metadata": {},
   "outputs": [],
   "source": [
    "def read_infile(infile):\n",
    "    words = []\n",
    "    \n",
    "    with open(infile, \"r\") as f:\n",
    "        for line in f.readlines():\n",
    "            _, form, *tags = line.split()\n",
    "            if len(tags) == 1:\n",
    "                words.append(form)\n",
    "    return words"
   ]
  },
  {
   "cell_type": "code",
   "execution_count": 3,
   "metadata": {},
   "outputs": [
    {
     "name": "stdout",
     "output_type": "stream",
     "text": [
      "9213 917 922\n",
      "валлонскому незаконченным истрёпывав личного серьгам необоснованным тюти заросла идеальна гулкой\n"
     ]
    }
   ],
   "source": [
    "train_words = read_infile(\"russian-train-high\")\n",
    "dev_words = read_infile(\"russian-dev\")\n",
    "test_words = read_infile(\"russian-test\")\n",
    "print(len(train_words), len(dev_words), len(test_words))\n",
    "print(*train_words[:10])"
   ]
  },
  {
   "cell_type": "code",
   "execution_count": 4,
   "metadata": {},
   "outputs": [
    {
     "name": "stderr",
     "output_type": "stream",
     "text": [
      "2020-03-27 19:26:00.321 WARNING in 'deeppavlov.core.models.serializable'['serializable'] at line 49: No load path is set for SimpleVocabulary in 'infer' mode. Using save path instead\n"
     ]
    },
    {
     "name": "stdout",
     "output_type": "stream",
     "text": [
      "52\n"
     ]
    }
   ],
   "source": [
    "from deeppavlov.core.data.simple_vocab import SimpleVocabulary\n",
    "\n",
    "vocab = SimpleVocabulary(special_tokens=[\"<PAD>\", \"<BEGIN>\", \"<END>\"], save_path = \"/\")\n",
    "vocab.fit([list(x) for x in train_words])\n",
    "print(len(vocab))"
   ]
  },
  {
   "cell_type": "code",
   "execution_count": 5,
   "metadata": {},
   "outputs": [],
   "source": [
    "import numpy as np\n",
    "from torch.utils.data import Dataset as TorchDataset\n",
    "import torch\n",
    "\n",
    "class Dataset(TorchDataset):\n",
    "    \n",
    "    \"\"\"Custom data.Dataset compatible with data.DataLoader.\"\"\"\n",
    "    def __init__(self, data, vocab):\n",
    "        self.data = data\n",
    "        self.vocab = vocab\n",
    "\n",
    "    def __getitem__(self, index):\n",
    "       \n",
    "        source =[self.vocab(\"<BEGIN>\")]\n",
    "        source.extend([self.vocab(x) for x in self.data[index]])\n",
    "        \n",
    "        target = source[1:].copy()\n",
    "        target.append(self.vocab(\"<END>\"))\n",
    "        \n",
    "        return torch.tensor(source, dtype = torch.long), torch.tensor(target, dtype = torch.long)\n",
    "        \n",
    "\n",
    "    def __len__(self):\n",
    "        return len(self.data)"
   ]
  },
  {
   "cell_type": "code",
   "execution_count": 6,
   "metadata": {},
   "outputs": [],
   "source": [
    "train_dataset = Dataset(train_words, vocab)\n",
    "dev_dataset = Dataset(dev_words, vocab)\n",
    "test_dataset = Dataset(test_words, vocab)"
   ]
  },
  {
   "cell_type": "code",
   "execution_count": 7,
   "metadata": {},
   "outputs": [
    {
     "name": "stdout",
     "output_type": "stream",
     "text": [
      "torch.Size([1, 12]) torch.Size([1, 12])\n",
      "torch.Size([1, 12]) torch.Size([1, 12])\n",
      "torch.Size([1, 12]) torch.Size([1, 12])\n",
      "torch.Size([1, 12]) torch.Size([1, 12])\n",
      "torch.Size([1, 12]) torch.Size([1, 12])\n",
      "torch.Size([1, 12]) torch.Size([1, 12])\n",
      "torch.Size([1, 12]) torch.Size([1, 12])\n",
      "torch.Size([1, 12]) torch.Size([1, 12])\n",
      "torch.Size([1, 12]) torch.Size([1, 12])\n",
      "torch.Size([1, 12]) torch.Size([1, 12])\n"
     ]
    }
   ],
   "source": [
    "from torch.utils.data import DataLoader\n",
    "\n",
    "dataloader = DataLoader(train_dataset, batch_size=1)\n",
    "\n",
    "\n",
    "for i in range(10):\n",
    "    x, y = next(iter(dataloader)) \n",
    "    print(x.shape, y.shape)"
   ]
  },
  {
   "cell_type": "markdown",
   "metadata": {},
   "source": [
    "#### *In order to create batch we need to stack(vertically) vectors, but we have vectors representing words with different lengths. In this case, it is impossible to create batch without padding shorter words*"
   ]
  },
  {
   "cell_type": "markdown",
   "metadata": {},
   "source": [
    "### Collate function for padding to create batcher"
   ]
  },
  {
   "cell_type": "code",
   "execution_count": 8,
   "metadata": {},
   "outputs": [],
   "source": [
    "def pad_tensor(vec, length, dim, pad_symbol):\n",
    "    num_pad  = length - vec.shape[dim]\n",
    "    pad = torch.fill_(torch.empty(num_pad, dtype = torch.long), pad_symbol)\n",
    "    return torch.cat((vec, pad), dim=0)#.unsqueeze(0)\n",
    "\n",
    "class Padder:\n",
    "    \n",
    "    def __init__(self, dim=0, pad_symbol=2):\n",
    "        self.dim = dim\n",
    "        self.pad_symbol = pad_symbol\n",
    "        self.x_len, self.y_len = 0, 0\n",
    "        \n",
    "    def apply_pad(self, x, y):\n",
    "        x = pad_tensor(x, self.x_len, self.dim , self.pad_symbol) \n",
    "        y = pad_tensor(y, self.y_len, self.dim , self.pad_symbol)\n",
    "        return (x,y)\n",
    "    \n",
    "    def __call__(self, batch):\n",
    "        \n",
    "        for x,y in batch:\n",
    "            self.x_len, self.y_len = max(self.x_len, len(x)), max(self.y_len, len(y))   \n",
    "       \n",
    "        \n",
    "        batch = list(map(lambda x: self.apply_pad(x[0], x[1]), batch))\n",
    "        \n",
    "        \n",
    "        xs = tuple(map(lambda x: x[0], batch))\n",
    "        ys = tuple(map(lambda x: x[1], batch))\n",
    "        \n",
    "        xs = torch.stack(xs, dim=0)\n",
    "        ys = torch.stack(ys, dim=0)\n",
    "        \n",
    "        return xs, ys"
   ]
  },
  {
   "cell_type": "code",
   "execution_count": 9,
   "metadata": {},
   "outputs": [
    {
     "name": "stdout",
     "output_type": "stream",
     "text": [
      "torch.Size([64, 19]) torch.Size([64, 19])\n",
      "torch.Size([64, 19]) torch.Size([64, 19])\n",
      "torch.Size([64, 19]) torch.Size([64, 19])\n",
      "torch.Size([64, 21]) torch.Size([64, 21])\n",
      "torch.Size([64, 21]) torch.Size([64, 21])\n",
      "torch.Size([64, 21]) torch.Size([64, 21])\n",
      "torch.Size([64, 21]) torch.Size([64, 21])\n",
      "torch.Size([64, 21]) torch.Size([64, 21])\n",
      "torch.Size([64, 21]) torch.Size([64, 21])\n",
      "torch.Size([64, 21]) torch.Size([64, 21])\n"
     ]
    }
   ],
   "source": [
    "from torch.utils.data import DataLoader\n",
    "\n",
    "dataloader = DataLoader(train_dataset,batch_size=64, collate_fn=Padder(dim=0), shuffle=True)\n",
    "val_dataloader = DataLoader(dev_dataset, batch_size=64, collate_fn=Padder(dim=0), shuffle=False)\n",
    "\n",
    "\n",
    "for i in range(10):\n",
    "    x, y = next(iter(dataloader)) \n",
    "    print(x.shape, y.shape)"
   ]
  },
  {
   "cell_type": "markdown",
   "metadata": {},
   "source": [
    "## Character-based language modeling"
   ]
  },
  {
   "cell_type": "markdown",
   "metadata": {},
   "source": [
    "Model description: \n",
    "\n",
    "1. **Embedding** layer that transforms input symbols into vectors.\n",
    "2. An **RNN** layer that outputs a sequence of hidden states (I am using GRU).\n",
    "3. A **Linear** layer with *softmax* activation that produces the output distribution for each symbol."
   ]
  },
  {
   "cell_type": "code",
   "execution_count": 10,
   "metadata": {},
   "outputs": [],
   "source": [
    "import torch.nn as nn\n",
    "from torch.nn import init\n",
    "\n",
    "class RNNLM(nn.Module):\n",
    "\n",
    "    def __init__(self, vocab_size, embeddings_dim, hidden_size):\n",
    "        super(RNNLM, self).__init__()\n",
    "        \n",
    "        self.emb = nn.Embedding(vocab_size, embeddings_dim)\n",
    "        self.gru = nn.GRU(embeddings_dim, hidden_size,batch_first = True)\n",
    "        self.lin = nn.Linear(hidden_size, vocab_size)\n",
    "        self.softmax = nn.LogSoftmax(dim=2)\n",
    "\n",
    "        init.kaiming_normal_(self.lin.weight) \n",
    "        init.kaiming_normal_(self.emb.weight) \n",
    "        #GRU Initialization\n",
    "        \n",
    "    \n",
    "    def forward(self, inputs, hidden=None): # [batch_size, seq_len]\n",
    "        x_emb = self.emb.forward(inputs) # [batch_size,seq_len, voc_size]\n",
    "        x_rnn, ht = self.gru.forward(x_emb) # [batch_size, seq_len, hi], [hidden_size, seq_len]\n",
    "        x_lin = self.lin.forward(x_rnn)\n",
    "        prob = self.softmax(x_lin)\n",
    "        return prob, ht\n"
   ]
  },
  {
   "cell_type": "code",
   "execution_count": 11,
   "metadata": {},
   "outputs": [],
   "source": [
    "def validate_on_batch(model, criterion, x, y):\n",
    "    pred, ht = model(x)\n",
    "    loss = criterion(pred.permute([0,2,1]), y)\n",
    "    return loss"
   ]
  },
  {
   "cell_type": "code",
   "execution_count": 12,
   "metadata": {},
   "outputs": [],
   "source": [
    "def train_on_batch(model, criterion, x, y, optimizer):\n",
    "    \n",
    "    loss = torch.mean(validate_on_batch(model, criterion, x, y))\n",
    "    \n",
    "    optimizer.zero_grad()\n",
    "    loss.backward()\n",
    "    optimizer.step()\n",
    "    \n",
    "    loss_avg = loss.item()\n",
    "    \n",
    "    return loss_avg"
   ]
  },
  {
   "cell_type": "markdown",
   "metadata": {},
   "source": [
    "### Train loop function"
   ]
  },
  {
   "cell_type": "code",
   "execution_count": 22,
   "metadata": {},
   "outputs": [],
   "source": [
    "def train_eval(model, dataloader, val_dataloader, optimizer, scheduler, criterion, epochs):\n",
    "    \n",
    "    train_losses = []\n",
    "    val_losses = []\n",
    "    iter_b = dataloader.__len__()\n",
    "    \n",
    "    model.to(device = DEVICE)\n",
    "    for e in range(1, epochs+1):\n",
    "        model.train() \n",
    "    \n",
    "        t_loss = 0\n",
    "        for x, y in dataloader:\n",
    "            x, y = x.to(device = DEVICE), y.to(device = DEVICE)\n",
    "    \n",
    "            loss_avgb = train_on_batch(model, criterion, x, y, optimizer) # average on batch\n",
    "            t_loss += loss_avgb\n",
    "    \n",
    "        t_loss_avg = t_loss/iter_b # average on one epoch\n",
    "        \n",
    "        train_losses.append(t_loss_avg) \n",
    "        print(\"[{}] loss: {:.3f} \".format(e, t_loss_avg))\n",
    "        \n",
    "        scheduler.step()\n",
    "        \n",
    "        val_loss = validate(model, criterion, val_dataloader)\n",
    "        val_losses.append(val_loss)\n",
    "    return val_losses\n",
    "\n",
    "def validate(model, criterion, dataloader):\n",
    "    model.eval()\n",
    "    \n",
    "    iter_b = dataloader.__len__()\n",
    "    v_lossb_avg = 0.0\n",
    "    \n",
    "    with torch.no_grad():\n",
    "        for (x,y) in dataloader:\n",
    "            v_lossb_avg += torch.mean(validate_on_batch(model, criterion, x, y))\n",
    "\n",
    "    return v_lossb_avg/iter_b"
   ]
  },
  {
   "cell_type": "code",
   "execution_count": 25,
   "metadata": {},
   "outputs": [],
   "source": [
    "DEVICE = torch.device(\"cuda\" if torch.cuda.is_available() else \"cpu\")\n",
    "\n",
    "# Model parameters\n",
    "vocab_size = len(vocab)\n",
    "embeddings_dim = 20\n",
    "hidden_size = 30\n",
    "\n",
    "model = RNNLM(vocab_size, embeddings_dim, hidden_size)\n",
    "\n",
    "optimizer = optim.Adam(model.parameters(), lr = 0.03)\n",
    "scheduler = lr_scheduler.StepLR(optimizer, 2, gamma = 0.01)\n",
    "criterion = nn.NLLLoss(ignore_index=vocab['<PAD>'], reduction=\"none\")"
   ]
  },
  {
   "cell_type": "code",
   "execution_count": 26,
   "metadata": {},
   "outputs": [
    {
     "name": "stdout",
     "output_type": "stream",
     "text": [
      "[1]loss: 1.020 \n",
      "[2]loss: 0.869 \n",
      "[3]loss: 0.845 \n",
      "[4]loss: 0.838 \n",
      "[5]loss: 0.836 \n"
     ]
    }
   ],
   "source": [
    "loss = train_eval(model, dataloader, val_dataloader, optimizer, scheduler, criterion, 5)"
   ]
  },
  {
   "cell_type": "code",
   "execution_count": 29,
   "metadata": {},
   "outputs": [
    {
     "data": {
      "text/plain": [
       "Text(0.5, 0, 'Epoch')"
      ]
     },
     "execution_count": 29,
     "metadata": {},
     "output_type": "execute_result"
    },
    {
     "data": {
      "image/png": "[encoded data removed]",
      "text/plain": [
       "<Figure size 432x288 with 1 Axes>"
      ]
     },
     "metadata": {
      "needs_background": "light"
     },
     "output_type": "display_data"
    }
   ],
   "source": [
    "plt.plot(loss)\n",
    "plt.title(\"Validation loss\")\n",
    "plt.xlabel(\"Epoch\")"
   ]
  },
  {
   "cell_type": "markdown",
   "metadata": {},
   "source": [
    "### Using language model to generate words"
   ]
  },
  {
   "cell_type": "markdown",
   "metadata": {},
   "source": [
    "TODO:\n",
    "- Write a function **predict_on_batch** that outputs letter probabilities of all words in the batch.\n",
    "- Calculate the letter probabilities for all words in the test dataset. Print them for 20 last words. Do not forget to disable shuffling in the *DataLoader*.\n",
    "- Write a function that generates a single word (sequence of indexes) given the model. Do not forget about the hidden state! Be careful about start and end symbol indexes. Use ``torch.multinomial`` for sampling.\n",
    "- Use generate to sample 20 pseudowords. Do not forget to transform indexes to letters.\n",
    "- Write a batched version of the generation function.\n",
    "- improve the perplexity of the model."
   ]
  },
  {
   "cell_type": "code",
   "execution_count": 35,
   "metadata": {},
   "outputs": [],
   "source": [
    "def predict_on_batch(model, x, vocab):\n",
    "    model.eval()\n",
    "    out, hidden = model(x)\n",
    "    pred = torch.exp(out)\n",
    "     \n",
    "    return pred\n",
    "\n",
    "\n",
    "### Indexing output by y true values"
   ]
  },
  {
   "cell_type": "code",
   "execution_count": 40,
   "metadata": {},
   "outputs": [
    {
     "data": {
      "text/plain": [
       "array([['<BEGIN>', 'х', 'р', ..., '<END>', '<END>', '<END>'],\n",
       "       ['<BEGIN>', 'н', 'а', ..., '<END>', '<END>', '<END>'],\n",
       "       ['<BEGIN>', 'р', 'а', ..., '<END>', '<END>', '<END>'],\n",
       "       ...,\n",
       "       ['<BEGIN>', 'м', 'у', ..., '<END>', '<END>', '<END>'],\n",
       "       ['<BEGIN>', 'с', 'о', ..., '<END>', '<END>', '<END>'],\n",
       "       ['<BEGIN>', 'р', 'а', ..., '<END>', '<END>', '<END>']], dtype='<U7')"
      ]
     },
     "execution_count": 40,
     "metadata": {},
     "output_type": "execute_result"
    }
   ],
   "source": [
    "np.vectorize(lambda x: vocab[x])(x_d)"
   ]
  },
  {
   "cell_type": "code",
   "execution_count": 54,
   "metadata": {},
   "outputs": [],
   "source": [
    "def letter_prob(model, dataloader, vocab):\n",
    "    with torch.no_grad():\n",
    "        words_probs = []\n",
    "        for x, _ in dataloader:\n",
    "            words_probs.append(predict_on_batch(model, x, vocab))\n",
    "        return words_probs\n",
    "\n",
    "test_loader = DataLoader(test_dataset, shuffle=False)\n",
    "word_probabilities = letter_prob(model, test_loader, vocab)"
   ]
  },
  {
   "cell_type": "code",
   "execution_count": 30,
   "metadata": {},
   "outputs": [],
   "source": [
    "def aux_generate(model, index, last_hidden):\n",
    "    x = torch.tensor(index, dtype=torch.long).reshape(1,1)\n",
    "    distribution, hidden = model.forward(x,hidden = last_hidden)\n",
    "    return distribution, hidden\n",
    "\n",
    "def generate_word(model, vocab, max_length=20, start_index=1, end_index=2):\n",
    "    word = ''\n",
    "    \n",
    "    hidden_state = None\n",
    "    last_symbol = np.random.randint(3, 52)\n",
    "    \n",
    "    length = 0\n",
    "    while(last_symbol != end_index and length <= max_length):\n",
    "        word += vocab[last_symbol]\n",
    "        distribution, hidden_state = aux_generate(model, last_symbol, hidden_state)\n",
    "        length += 1\n",
    "        last_symbol = int(torch.multinomial(torch.exp(distribution), 1))\n",
    "        \n",
    "    return word\n",
    "\n",
    "def generate(model, max_length=20, start_index=1, end_index=2):\n",
    "    return generate_word(model, vocab, max_length=20, start_index=1, end_index=2)"
   ]
  },
  {
   "cell_type": "code",
   "execution_count": null,
   "metadata": {},
   "outputs": [],
   "source": [
    "generate_word(model, vocab)"
   ]
  },
  {
   "cell_type": "code",
   "execution_count": null,
   "metadata": {},
   "outputs": [],
   "source": [
    "def generate_batch(model, batch_size, max_length = 20, start_index=1, end_index=2):\n",
    "    pass"
   ]
  },
  {
   "cell_type": "code",
   "execution_count": null,
   "metadata": {},
   "outputs": [],
   "source": [
    "# ADD PERPLEXITY ON VALIDATION\n",
    "# DROPOut"
   ]
  },
  {
   "cell_type": "code",
   "execution_count": null,
   "metadata": {},
   "outputs": [],
   "source": [
    "# QUESTION\n",
    "# - Why not hot-encoded\n",
    "# - "
   ]
  }
 ],
 "metadata": {
  "kernelspec": {
   "display_name": "Python 3",
   "language": "python",
   "name": "python3"
  },
  "language_info": {
   "codemirror_mode": {
    "name": "ipython",
    "version": 3
   },
   "file_extension": ".py",
   "mimetype": "text/x-python",
   "name": "python",
   "nbconvert_exporter": "python",
   "pygments_lexer": "ipython3",
   "version": "3.6.10"
  }
 },
 "nbformat": 4,
 "nbformat_minor": 4
}

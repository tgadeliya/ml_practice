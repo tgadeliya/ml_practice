{
 "cells": [
  {
   "cell_type": "code",
   "execution_count": null,
   "metadata": {
    "colab": {},
    "colab_type": "code",
    "collapsed": true,
    "id": "0sRDgY4CDBgw",
    "jupyter": {
     "outputs_hidden": true
    }
   },
   "outputs": [],
   "source": [
    "!pip install idx2numpy"
   ]
  },
  {
   "cell_type": "code",
   "execution_count": null,
   "metadata": {
    "colab": {},
    "colab_type": "code",
    "id": "-vTt2wJRDBg5"
   },
   "outputs": [],
   "source": [
    "import numpy as np\n",
    "\n",
    "from src.preprocessing import *\n",
    "from src.evaluation import accuracy\n",
    "from src.multiclass_model import LogisticRegressionMulti\n",
    "from src.hyperparameters_tuning import RandomSearch"
   ]
  },
  {
   "cell_type": "code",
   "execution_count": null,
   "metadata": {
    "colab": {},
    "colab_type": "code",
    "id": "FZMw3XKEDBhA"
   },
   "outputs": [],
   "source": [
    "def is_composite(y: np.ndarray) -> np.ndarray:\n",
    "    return np.where(np.isin(y, [4,6,8,9]), 1,-1)"
   ]
  },
  {
   "cell_type": "code",
   "execution_count": null,
   "metadata": {
    "colab": {},
    "colab_type": "code",
    "id": "oZZwkRVhDlkd"
   },
   "outputs": [],
   "source": [
    "!mkdir data\n",
    "!wget -P data/ http://yann.lecun.com/exdb/mnist/train-images-idx3-ubyte.gz;\n",
    "!wget -P data/ http://yann.lecun.com/exdb/mnist/train-labels-idx1-ubyte.gz;\n",
    "!wget -P data/ http://yann.lecun.com/exdb/mnist/t10k-images-idx3-ubyte.gz;\n",
    "!wget -P data/ http://yann.lecun.com/exdb/mnist/t10k-labels-idx1-ubyte.gz;\n",
    "!gunzip data/*"
   ]
  },
  {
   "cell_type": "markdown",
   "metadata": {
    "colab_type": "text",
    "id": "00mGlJ7ODBhG"
   },
   "source": [
    "## Load data"
   ]
  },
  {
   "cell_type": "code",
   "execution_count": null,
   "metadata": {
    "colab": {},
    "colab_type": "code",
    "id": "q9TCR2UJDBhH"
   },
   "outputs": [],
   "source": [
    "X_train, y_train = load_data(\"train\")\n",
    "X_test, y_test = load_data(\"t10k\")\n",
    "\n",
    "split = X_train.shape[0]\n",
    "\n",
    "X = np.vstack((X_train,X_test))\n",
    "\n",
    "X = X.reshape(-1,28*28)\n",
    "\n",
    "# Przeskalowanie danych\n",
    "scaler = Scaler()\n",
    "scaler.fit(X)\n",
    "X_scaled = scaler.standardize(X)\n",
    "\n",
    "X_pca = PCA(X_scaled, 150)\n",
    "X_pca_poly = Polynomial(X_pca)"
   ]
  },
  {
   "cell_type": "code",
   "execution_count": 105,
   "metadata": {
    "colab": {
     "base_uri": "https://localhost:8080/",
     "height": 35
    },
    "colab_type": "code",
    "id": "avaW6NOMEn-W",
    "outputId": "294eaf13-f565-441d-da11-475e87a780a9"
   },
   "outputs": [
    {
     "data": {
      "text/plain": [
       "(55220, 11325)"
      ]
     },
     "execution_count": 105,
     "metadata": {
      "tags": []
     },
     "output_type": "execute_result"
    }
   ],
   "source": [
    "X_pca_poly.shape"
   ]
  },
  {
   "cell_type": "code",
   "execution_count": null,
   "metadata": {
    "colab": {},
    "colab_type": "code",
    "id": "OWUecWV2ktCH"
   },
   "outputs": [],
   "source": [
    "X_train_pca_poly = X_pca_poly[:split,:]\n",
    "X_test_pca_poly = X_pca_poly[split:,:]"
   ]
  },
  {
   "cell_type": "code",
   "execution_count": 108,
   "metadata": {
    "colab": {
     "base_uri": "https://localhost:8080/",
     "height": 35
    },
    "colab_type": "code",
    "id": "e4FhexIolyyA",
    "outputId": "d849ac53-0810-42f1-cf4e-3c50c392b0f1"
   },
   "outputs": [
    {
     "data": {
      "text/plain": [
       "((47335, 11325), (47335,))"
      ]
     },
     "execution_count": 108,
     "metadata": {
      "tags": []
     },
     "output_type": "execute_result"
    }
   ],
   "source": [
    "X_train_pca_poly.shape, y_train.shape"
   ]
  },
  {
   "cell_type": "markdown",
   "metadata": {
    "colab_type": "text",
    "id": "w0GCyjCEDBhQ"
   },
   "source": [
    "## Random Search"
   ]
  },
  {
   "cell_type": "code",
   "execution_count": null,
   "metadata": {
    "colab": {},
    "colab_type": "code",
    "id": "KHtKLr70DBhj"
   },
   "outputs": [],
   "source": [
    "params = {\"C\" : [1, 2, 5, 10],\n",
    "          \"learning_rate_init\" : [10**(-x) for x in np.arange(1, 7, 1, dtype=\"float\")],\n",
    "          \"weight_decay\" : np.arange(5, 10, 1) * 0.1,\n",
    "          \"alpha\" : np.arange(5, 9, 1) * 0.1,\n",
    "          \"val_split\": [1]\n",
    "}"
   ]
  },
  {
   "cell_type": "code",
   "execution_count": null,
   "metadata": {
    "colab": {},
    "colab_type": "code",
    "id": "Y1S8ucFUDBhu"
   },
   "outputs": [],
   "source": [
    "rs = RandomSearch(parameters_dict=params, n_samples=10, validation_split=0.9)"
   ]
  },
  {
   "cell_type": "code",
   "execution_count": 33,
   "metadata": {
    "colab": {
     "base_uri": "https://localhost:8080/",
     "height": 126
    },
    "colab_type": "code",
    "id": "vwXCkGwtDBh5",
    "outputId": "55c315c1-ecab-4a01-fc17-df199bb32ce6"
   },
   "outputs": [
    {
     "data": {
      "text/plain": [
       "(0.957752429235319,\n",
       " {'C': 5,\n",
       "  'alpha': 0.5,\n",
       "  'learning_rate_init': 0.1,\n",
       "  'val_split': 1,\n",
       "  'weight_decay': 0.6000000000000001})"
      ]
     },
     "execution_count": 33,
     "metadata": {
      "tags": []
     },
     "output_type": "execute_result"
    }
   ],
   "source": [
    "rs.fit(LogisticRegressionMulti, X_pca_poly, y, n_model_iter=8)"
   ]
  },
  {
   "cell_type": "markdown",
   "metadata": {
    "colab_type": "text",
    "id": "ybnkLO_Fqeft"
   },
   "source": [
    "## Train on whole data"
   ]
  },
  {
   "cell_type": "code",
   "execution_count": null,
   "metadata": {
    "colab": {},
    "colab_type": "code",
    "id": "vy3hCItz1MEV"
   },
   "outputs": [],
   "source": [
    "# Dodałem większe C, dlatego że w zbiór testowy składa się z dwóch części :\n",
    "# jest jest czystsza i latwiesza do rozpoznawania, a druga pochodzi z innego zbioru i jest \"brudniejsza\"  "
   ]
  },
  {
   "cell_type": "code",
   "execution_count": null,
   "metadata": {
    "colab": {},
    "colab_type": "code",
    "id": "B604HeskDBiF"
   },
   "outputs": [],
   "source": [
    "model = LogisticRegressionMulti(C=10, learning_rate_init=0.1, alpha=0.5, weight_decay=0.6,\n",
    "                                max_iter=15, batch_size=32, val_split = 1, verbose=True,         \n",
    "                                num_classes=8, random_state=25)"
   ]
  },
  {
   "cell_type": "code",
   "execution_count": null,
   "metadata": {
    "colab": {},
    "colab_type": "code",
    "id": "Xc6Ie0pyQVtq"
   },
   "outputs": [],
   "source": [
    "model.fit(X_train_pca_poly, y_train.reshape(-1,1));"
   ]
  },
  {
   "cell_type": "code",
   "execution_count": 112,
   "metadata": {
    "colab": {
     "base_uri": "https://localhost:8080/",
     "height": 35
    },
    "colab_type": "code",
    "id": "10a5vfGdirKo",
    "outputId": "c6f19eda-35bd-4ba6-a8d4-9662c17a6065"
   },
   "outputs": [
    {
     "data": {
      "text/plain": [
       "0.954724159797083"
      ]
     },
     "execution_count": 112,
     "metadata": {
      "tags": []
     },
     "output_type": "execute_result"
    }
   ],
   "source": [
    "accuracy(model, X_test_pca_poly, y_test)"
   ]
  },
  {
   "cell_type": "code",
   "execution_count": 116,
   "metadata": {
    "colab": {
     "base_uri": "https://localhost:8080/",
     "height": 35
    },
    "colab_type": "code",
    "id": "jN0p44u_2TJb",
    "outputId": "8608c622-dec8-4b8c-ef6f-a8272568f638"
   },
   "outputs": [
    {
     "data": {
      "text/plain": [
       "(0.9681109185441941, 0.947)"
      ]
     },
     "execution_count": 116,
     "metadata": {
      "tags": []
     },
     "output_type": "execute_result"
    }
   ],
   "source": [
    "#sprawdzimy czy istnieje różnica w danych testowych?\n",
    "accuracy(model, X_test_pca_poly[5000:], y_test[5000:]), accuracy(model, X_test_pca_poly[:5000], y_test[:5000]) # Tak"
   ]
  },
  {
   "cell_type": "code",
   "execution_count": null,
   "metadata": {
    "colab": {},
    "colab_type": "code",
    "id": "WjanErIvt1xz"
   },
   "outputs": [],
   "source": [
    "predict_comp = preds_comp = np.where(np.isin(model.predict(X_test_pca_poly), [4,6,8,9]), 1,-1)\n",
    "y_test_comp = is_composite(y_test)\n",
    "acc_comp = (sum(predict_comp == y_test_comp)/ len(y_test_comp))"
   ]
  },
  {
   "cell_type": "code",
   "execution_count": 114,
   "metadata": {
    "colab": {
     "base_uri": "https://localhost:8080/",
     "height": 35
    },
    "colab_type": "code",
    "id": "y8HQzpghu7tT",
    "outputId": "08d77b40-2b64-4d77-a12c-b2931bc08ce2"
   },
   "outputs": [
    {
     "data": {
      "text/plain": [
       "0.97285986049461"
      ]
     },
     "execution_count": 114,
     "metadata": {
      "tags": []
     },
     "output_type": "execute_result"
    }
   ],
   "source": [
    "acc_comp"
   ]
  },
  {
   "cell_type": "code",
   "execution_count": null,
   "metadata": {
    "colab": {},
    "colab_type": "code",
    "id": "zH0eZk1us3GZ"
   },
   "outputs": [],
   "source": [
    "model.save_model(\"logreg_multiclass_trained.json\")"
   ]
  }
 ],
 "metadata": {
  "colab": {
   "machine_shape": "hm",
   "name": "logreg_rs_colab.ipynb",
   "provenance": [],
   "toc_visible": true
  },
  "kernelspec": {
   "display_name": "Python 3",
   "language": "python",
   "name": "python3"
  },
  "language_info": {
   "codemirror_mode": {
    "name": "ipython",
    "version": 3
   },
   "file_extension": ".py",
   "mimetype": "text/x-python",
   "name": "python",
   "nbconvert_exporter": "python",
   "pygments_lexer": "ipython3",
   "version": "3.6.10"
  }
 },
 "nbformat": 4,
 "nbformat_minor": 4
}

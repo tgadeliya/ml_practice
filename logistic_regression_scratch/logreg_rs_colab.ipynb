{
  "nbformat": 4,
  "nbformat_minor": 0,
  "metadata": {
    "kernelspec": {
      "display_name": "Python 3",
      "language": "python",
      "name": "python3"
    },
    "language_info": {
      "codemirror_mode": {
        "name": "ipython",
        "version": 3
      },
      "file_extension": ".py",
      "mimetype": "text/x-python",
      "name": "python",
      "nbconvert_exporter": "python",
      "pygments_lexer": "ipython3",
      "version": "3.6.10"
    },
    "colab": {
      "name": "logreg_rs_colab.ipynb",
      "provenance": [],
      "toc_visible": true,
      "machine_shape": "hm"
    }
  },
  "cells": [
    {
      "cell_type": "code",
      "metadata": {
        "collapsed": true,
        "jupyter": {
          "outputs_hidden": true
        },
        "id": "0sRDgY4CDBgw",
        "colab_type": "code",
        "colab": {}
      },
      "source": [
        "!pip install idx2numpy"
      ],
      "execution_count": 0,
      "outputs": []
    },
    {
      "cell_type": "code",
      "metadata": {
        "id": "-vTt2wJRDBg5",
        "colab_type": "code",
        "colab": {}
      },
      "source": [
        "import numpy as np\n",
        "\n",
        "from src.preprocessing import *\n",
        "from src.evaluation import accuracy\n",
        "from src.multiclass_model import LogisticRegressionMulti\n",
        "from src.hyperparameters_tuning import RandomSearch"
      ],
      "execution_count": 0,
      "outputs": []
    },
    {
      "cell_type": "code",
      "metadata": {
        "id": "FZMw3XKEDBhA",
        "colab_type": "code",
        "colab": {}
      },
      "source": [
        "def is_composite(y: np.ndarray) -> np.ndarray:\n",
        "    return np.where(np.isin(y, [4,6,8,9]), 1,-1)"
      ],
      "execution_count": 0,
      "outputs": []
    },
    {
      "cell_type": "code",
      "metadata": {
        "id": "oZZwkRVhDlkd",
        "colab_type": "code",
        "colab": {}
      },
      "source": [
        "!mkdir data\n",
        "!wget -P data/ http://yann.lecun.com/exdb/mnist/train-images-idx3-ubyte.gz;\n",
        "!wget -P data/ http://yann.lecun.com/exdb/mnist/train-labels-idx1-ubyte.gz;\n",
        "!wget -P data/ http://yann.lecun.com/exdb/mnist/t10k-images-idx3-ubyte.gz;\n",
        "!wget -P data/ http://yann.lecun.com/exdb/mnist/t10k-labels-idx1-ubyte.gz;\n",
        "!gunzip data/*"
      ],
      "execution_count": 0,
      "outputs": []
    },
    {
      "cell_type": "markdown",
      "metadata": {
        "id": "00mGlJ7ODBhG",
        "colab_type": "text"
      },
      "source": [
        "## Załadowanie danych"
      ]
    },
    {
      "cell_type": "code",
      "metadata": {
        "id": "q9TCR2UJDBhH",
        "colab_type": "code",
        "colab": {}
      },
      "source": [
        "X_train, y_train = load_data(\"train\")\n",
        "X_test, y_test = load_data(\"t10k\")\n",
        "\n",
        "split = X_train.shape[0]\n",
        "\n",
        "X = np.vstack((X_train,X_test))\n",
        "\n",
        "X = X.reshape(-1,28*28)\n",
        "\n",
        "# Przeskalowanie danych\n",
        "scaler = Scaler()\n",
        "scaler.fit(X)\n",
        "X_scaled = scaler.standardize(X)\n",
        "\n",
        "X_pca = PCA(X_scaled, 150)\n",
        "X_pca_poly = Polynomial(X_pca)"
      ],
      "execution_count": 0,
      "outputs": []
    },
    {
      "cell_type": "code",
      "metadata": {
        "id": "avaW6NOMEn-W",
        "colab_type": "code",
        "colab": {
          "base_uri": "https://localhost:8080/",
          "height": 35
        },
        "outputId": "294eaf13-f565-441d-da11-475e87a780a9"
      },
      "source": [
        "X_pca_poly.shape"
      ],
      "execution_count": 105,
      "outputs": [
        {
          "output_type": "execute_result",
          "data": {
            "text/plain": [
              "(55220, 11325)"
            ]
          },
          "metadata": {
            "tags": []
          },
          "execution_count": 105
        }
      ]
    },
    {
      "cell_type": "code",
      "metadata": {
        "id": "OWUecWV2ktCH",
        "colab_type": "code",
        "colab": {}
      },
      "source": [
        "X_train_pca_poly = X_pca_poly[:split,:]\n",
        "X_test_pca_poly = X_pca_poly[split:,:]"
      ],
      "execution_count": 0,
      "outputs": []
    },
    {
      "cell_type": "code",
      "metadata": {
        "id": "e4FhexIolyyA",
        "colab_type": "code",
        "colab": {
          "base_uri": "https://localhost:8080/",
          "height": 35
        },
        "outputId": "d849ac53-0810-42f1-cf4e-3c50c392b0f1"
      },
      "source": [
        "X_train_pca_poly.shape, y_train.shape"
      ],
      "execution_count": 108,
      "outputs": [
        {
          "output_type": "execute_result",
          "data": {
            "text/plain": [
              "((47335, 11325), (47335,))"
            ]
          },
          "metadata": {
            "tags": []
          },
          "execution_count": 108
        }
      ]
    },
    {
      "cell_type": "markdown",
      "metadata": {
        "id": "w0GCyjCEDBhQ",
        "colab_type": "text"
      },
      "source": [
        "## Random Search"
      ]
    },
    {
      "cell_type": "code",
      "metadata": {
        "id": "KHtKLr70DBhj",
        "colab_type": "code",
        "colab": {}
      },
      "source": [
        "params = {\"C\" : [1, 2, 5, 10],\n",
        "          \"learning_rate_init\" : [10**(-x) for x in np.arange(1, 7, 1, dtype=\"float\")],\n",
        "          \"weight_decay\" : np.arange(5, 10, 1) * 0.1,\n",
        "          \"alpha\" : np.arange(5, 9, 1) * 0.1,\n",
        "          \"val_split\": [1]\n",
        "}"
      ],
      "execution_count": 0,
      "outputs": []
    },
    {
      "cell_type": "code",
      "metadata": {
        "id": "Y1S8ucFUDBhu",
        "colab_type": "code",
        "colab": {}
      },
      "source": [
        "rs = RandomSearch(parameters_dict=params, n_samples=10, validation_split=0.9)"
      ],
      "execution_count": 0,
      "outputs": []
    },
    {
      "cell_type": "code",
      "metadata": {
        "id": "vwXCkGwtDBh5",
        "colab_type": "code",
        "colab": {
          "base_uri": "https://localhost:8080/",
          "height": 126
        },
        "outputId": "55c315c1-ecab-4a01-fc17-df199bb32ce6"
      },
      "source": [
        "rs.fit(LogisticRegressionMulti, X_pca_poly, y, n_model_iter=8)"
      ],
      "execution_count": 33,
      "outputs": [
        {
          "output_type": "execute_result",
          "data": {
            "text/plain": [
              "(0.957752429235319,\n",
              " {'C': 5,\n",
              "  'alpha': 0.5,\n",
              "  'learning_rate_init': 0.1,\n",
              "  'val_split': 1,\n",
              "  'weight_decay': 0.6000000000000001})"
            ]
          },
          "metadata": {
            "tags": []
          },
          "execution_count": 33
        }
      ]
    },
    {
      "cell_type": "markdown",
      "metadata": {
        "id": "ybnkLO_Fqeft",
        "colab_type": "text"
      },
      "source": [
        "## Trenowanie na całym zbiorze"
      ]
    },
    {
      "cell_type": "code",
      "metadata": {
        "id": "vy3hCItz1MEV",
        "colab_type": "code",
        "colab": {}
      },
      "source": [
        "# Dodałem większe C, dlatego że w zbiór testowy składa się z dwóch części :\n",
        "# jest jest czystsza i latwiesza do rozpoznawania, a druga pochodzi z innego zbioru i jest \"brudniejsza\"  "
      ],
      "execution_count": 0,
      "outputs": []
    },
    {
      "cell_type": "code",
      "metadata": {
        "id": "B604HeskDBiF",
        "colab_type": "code",
        "colab": {}
      },
      "source": [
        "model = LogisticRegressionMulti(C=10, learning_rate_init=0.1, alpha=0.5, weight_decay=0.6,\n",
        "                                max_iter=15, batch_size=32, val_split = 1, verbose=True,         \n",
        "                                num_classes=8, random_state=25)"
      ],
      "execution_count": 0,
      "outputs": []
    },
    {
      "cell_type": "code",
      "metadata": {
        "id": "Xc6Ie0pyQVtq",
        "colab_type": "code",
        "colab": {}
      },
      "source": [
        "model.fit(X_train_pca_poly, y_train.reshape(-1,1));"
      ],
      "execution_count": 0,
      "outputs": []
    },
    {
      "cell_type": "code",
      "metadata": {
        "id": "10a5vfGdirKo",
        "colab_type": "code",
        "colab": {
          "base_uri": "https://localhost:8080/",
          "height": 35
        },
        "outputId": "c6f19eda-35bd-4ba6-a8d4-9662c17a6065"
      },
      "source": [
        "accuracy(model, X_test_pca_poly, y_test)"
      ],
      "execution_count": 112,
      "outputs": [
        {
          "output_type": "execute_result",
          "data": {
            "text/plain": [
              "0.954724159797083"
            ]
          },
          "metadata": {
            "tags": []
          },
          "execution_count": 112
        }
      ]
    },
    {
      "cell_type": "code",
      "metadata": {
        "id": "jN0p44u_2TJb",
        "colab_type": "code",
        "colab": {
          "base_uri": "https://localhost:8080/",
          "height": 35
        },
        "outputId": "8608c622-dec8-4b8c-ef6f-a8272568f638"
      },
      "source": [
        "#sprawdzimy czy istnieje różnica w danych testowych?\n",
        "accuracy(model, X_test_pca_poly[5000:], y_test[5000:]), accuracy(model, X_test_pca_poly[:5000], y_test[:5000]) # Tak"
      ],
      "execution_count": 116,
      "outputs": [
        {
          "output_type": "execute_result",
          "data": {
            "text/plain": [
              "(0.9681109185441941, 0.947)"
            ]
          },
          "metadata": {
            "tags": []
          },
          "execution_count": 116
        }
      ]
    },
    {
      "cell_type": "code",
      "metadata": {
        "id": "WjanErIvt1xz",
        "colab_type": "code",
        "colab": {}
      },
      "source": [
        "predict_comp = preds_comp = np.where(np.isin(model.predict(X_test_pca_poly), [4,6,8,9]), 1,-1)\n",
        "y_test_comp = is_composite(y_test)\n",
        "acc_comp = (sum(predict_comp == y_test_comp)/ len(y_test_comp))"
      ],
      "execution_count": 0,
      "outputs": []
    },
    {
      "cell_type": "code",
      "metadata": {
        "id": "y8HQzpghu7tT",
        "colab_type": "code",
        "colab": {
          "base_uri": "https://localhost:8080/",
          "height": 35
        },
        "outputId": "08d77b40-2b64-4d77-a12c-b2931bc08ce2"
      },
      "source": [
        "acc_comp"
      ],
      "execution_count": 114,
      "outputs": [
        {
          "output_type": "execute_result",
          "data": {
            "text/plain": [
              "0.97285986049461"
            ]
          },
          "metadata": {
            "tags": []
          },
          "execution_count": 114
        }
      ]
    },
    {
      "cell_type": "code",
      "metadata": {
        "id": "zH0eZk1us3GZ",
        "colab_type": "code",
        "colab": {}
      },
      "source": [
        "model.save_model(\"logreg_multiclass_trained.json\")"
      ],
      "execution_count": 0,
      "outputs": []
    }
  ]
}
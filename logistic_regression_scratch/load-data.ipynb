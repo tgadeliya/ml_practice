{
 "cells": [
  {
   "cell_type": "code",
   "execution_count": null,
   "metadata": {},
   "outputs": [],
   "source": [
    "# effective load data from stupid format\n",
    "# effective convert to arrays and so on\n",
    "# effective scale or something to "
   ]
  },
  {
   "cell_type": "markdown",
   "metadata": {},
   "source": [
    "In order to download files, I will use extra library to make this process easier. This library was developed specially to load into numpy.ndarray training images"
   ]
  },
  {
   "cell_type": "code",
   "execution_count": 1,
   "metadata": {},
   "outputs": [],
   "source": [
    "import numpy as np\n",
    "import idx2numpy\n",
    "\n",
    "X_train = idx2numpy.convert_from_file(\"train-images-idx3-ubyte\")\n",
    "y_train = idx2numpy.convert_from_file(\"train-labels-idx1-ubyte\")"
   ]
  },
  {
   "cell_type": "markdown",
   "metadata": {},
   "source": [
    "In order to make stable evaluation scheme I will use 10 Fold cross-validation.\n",
    "\n",
    "Before that it is good to check distribution of classes, to have that all classes are represented in train and validation"
   ]
  },
  {
   "cell_type": "code",
   "execution_count": 5,
   "metadata": {},
   "outputs": [
    {
     "name": "stdout",
     "output_type": "stream",
     "text": [
      "[592 671 581 608 623 514 608 651 551 601] mean counts 43.037193217030314\n",
      "[614 680 595 620 561 534 600 628 576 592] mean counts 37.84441834669943\n",
      "[577 700 564 655 563 539 563 621 605 613] mean counts 46.8444233607374\n",
      "[598 681 607 604 600 557 599 589 560 605] mean counts 31.97811751807789\n",
      "[580 691 601 586 579 565 605 618 583 592] mean counts 33.53505628443167\n",
      "[573 690 594 617 581 521 592 614 597 621] mean counts 40.578319334344044\n",
      "[609 686 605 578 592 554 613 609 568 586] mean counts 34.111581610942636\n",
      "[586 671 615 621 556 540 568 638 613 592] mean counts 37.603191353926334\n",
      "[607 642 596 615 592 548 599 629 601 571] mean counts 25.5068618218706\n",
      "[587 630 600 627 595 549 571 668 597 576] mean counts 32.36355975476122\n"
     ]
    }
   ],
   "source": [
    "for i in range(10):\n",
    "    _, counts = np.unique(y_train[6000*i:6000*(i+1)],return_counts=True)\n",
    "    print(counts, f\"mean counts {np.std(counts)}\")"
   ]
  },
  {
   "cell_type": "markdown",
   "metadata": {},
   "source": [
    "As we can see below, we have good distribution over folds."
   ]
  },
  {
   "cell_type": "markdown",
   "metadata": {},
   "source": [
    "My task is to create model, that recognize odd and even numbers from 28x28 image. Important observation here is to understand, that number parity isn't coded in number appearance, but it is mathematical property. So it makes sense to create model, that recognize numbers and based on that numbers we can decide parity of the image. Now it is only hypothesis, which I am going to check"
   ]
  },
  {
   "cell_type": "code",
   "execution_count": null,
   "metadata": {},
   "outputs": [],
   "source": []
  }
 ],
 "metadata": {
  "kernelspec": {
   "display_name": "Python 3",
   "language": "python",
   "name": "python3"
  },
  "language_info": {
   "codemirror_mode": {
    "name": "ipython",
    "version": 3
   },
   "file_extension": ".py",
   "mimetype": "text/x-python",
   "name": "python",
   "nbconvert_exporter": "python",
   "pygments_lexer": "ipython3",
   "version": "3.6.10-final"
  }
 },
 "nbformat": 4,
 "nbformat_minor": 4
}
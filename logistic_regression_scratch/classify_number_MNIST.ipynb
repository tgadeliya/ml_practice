{
 "cells": [
  {
   "cell_type": "markdown",
   "metadata": {},
   "source": [
    "## Import libraries"
   ]
  },
  {
   "cell_type": "code",
   "execution_count": 1,
   "metadata": {},
   "outputs": [],
   "source": [
    "import numpy as np\n",
    "\n",
    "from src.preprocessing import *\n",
    "from src.binary_model import LogisticRegressionBinary\n",
    "from src.multiclass_model import LogisticRegressionMulti\n",
    "from src.evaluation import *\n",
    "\n",
    "import matplotlib.pyplot as plt\n",
    "import seaborn as sns\n",
    "%matplotlib inline"
   ]
  },
  {
   "cell_type": "markdown",
   "metadata": {},
   "source": [
    "## load data & simple tests"
   ]
  },
  {
   "cell_type": "code",
   "execution_count": 12,
   "metadata": {
    "collapsed": true,
    "jupyter": {
     "outputs_hidden": true
    }
   },
   "outputs": [
    {
     "name": "stdout",
     "output_type": "stream",
     "text": [
      "mkdir: cannot create directory ‘data’: File exists\n",
      "--2020-04-15 14:14:12--  http://yann.lecun.com/exdb/mnist/train-images-idx3-ubyte.gz\n",
      "Resolving yann.lecun.com (yann.lecun.com)... 104.28.6.204, 104.28.7.204, 2606:4700:3033::681c:7cc, ...\n",
      "Connecting to yann.lecun.com (yann.lecun.com)|104.28.6.204|:80... connected.\n",
      "HTTP request sent, awaiting response... 200 OK\n",
      "Length: 9912422 (9,5M) [application/x-gzip]\n",
      "Saving to: ‘data/train-images-idx3-ubyte.gz’\n",
      "\n",
      "train-images-idx3-u 100%[===================>]   9,45M  5,02MB/s    in 1,9s    \n",
      "\n",
      "2020-04-15 14:14:14 (5,02 MB/s) - ‘data/train-images-idx3-ubyte.gz’ saved [9912422/9912422]\n",
      "\n",
      "--2020-04-15 14:14:14--  http://yann.lecun.com/exdb/mnist/train-labels-idx1-ubyte.gz\n",
      "Resolving yann.lecun.com (yann.lecun.com)... 104.28.7.204, 104.28.6.204, 2606:4700:3031::681c:6cc, ...\n",
      "Connecting to yann.lecun.com (yann.lecun.com)|104.28.7.204|:80... connected.\n",
      "HTTP request sent, awaiting response... 200 OK\n",
      "Length: 28881 (28K) [application/x-gzip]\n",
      "Saving to: ‘data/train-labels-idx1-ubyte.gz’\n",
      "\n",
      "train-labels-idx1-u 100%[===================>]  28,20K  --.-KB/s    in 0,1s    \n",
      "\n",
      "2020-04-15 14:14:15 (197 KB/s) - ‘data/train-labels-idx1-ubyte.gz’ saved [28881/28881]\n",
      "\n",
      "--2020-04-15 14:14:15--  http://yann.lecun.com/exdb/mnist/t10k-images-idx3-ubyte.gz\n",
      "Resolving yann.lecun.com (yann.lecun.com)... 104.28.7.204, 104.28.6.204, 2606:4700:3031::681c:6cc, ...\n",
      "Connecting to yann.lecun.com (yann.lecun.com)|104.28.7.204|:80... connected.\n",
      "HTTP request sent, awaiting response... 200 OK\n",
      "Length: 1648877 (1,6M) [application/x-gzip]\n",
      "Saving to: ‘data/t10k-images-idx3-ubyte.gz’\n",
      "\n",
      "t10k-images-idx3-ub 100%[===================>]   1,57M  2,18MB/s    in 0,7s    \n",
      "\n",
      "2020-04-15 14:14:16 (2,18 MB/s) - ‘data/t10k-images-idx3-ubyte.gz’ saved [1648877/1648877]\n",
      "\n",
      "--2020-04-15 14:14:16--  http://yann.lecun.com/exdb/mnist/t10k-labels-idx1-ubyte.gz\n",
      "Resolving yann.lecun.com (yann.lecun.com)... 104.28.7.204, 104.28.6.204, 2606:4700:3031::681c:6cc, ...\n",
      "Connecting to yann.lecun.com (yann.lecun.com)|104.28.7.204|:80... connected.\n",
      "HTTP request sent, awaiting response... 200 OK\n",
      "Length: 4542 (4,4K) [application/x-gzip]\n",
      "Saving to: ‘data/t10k-labels-idx1-ubyte.gz’\n",
      "\n",
      "t10k-labels-idx1-ub 100%[===================>]   4,44K  --.-KB/s    in 0s      \n",
      "\n",
      "2020-04-15 14:14:16 (122 MB/s) - ‘data/t10k-labels-idx1-ubyte.gz’ saved [4542/4542]\n",
      "\n"
     ]
    }
   ],
   "source": [
    "!./download.sh"
   ]
  },
  {
   "cell_type": "code",
   "execution_count": 2,
   "metadata": {
    "collapsed": true,
    "jupyter": {
     "outputs_hidden": true
    }
   },
   "outputs": [
    {
     "name": "stdout",
     "output_type": "stream",
     "text": [
      "\u001b[1m============================= test session starts ==============================\u001b[0m\n",
      "platform linux -- Python 3.6.10, pytest-4.4.1, py-1.8.0, pluggy-0.9.0\n",
      "rootdir: /home/timur/code/allegro_test\n",
      "plugins: remotedata-0.3.1, openfiles-0.3.2, doctestplus-0.3.0, arraydiff-0.3\n",
      "collected 9 items                                                              \u001b[0m\u001b[1m\n",
      "\n",
      "test_function.py \u001b[32m.\u001b[0m\u001b[32m.\u001b[0m\u001b[32m.\u001b[0m\u001b[32m.\u001b[0m\u001b[36m                                                    [ 44%]\u001b[0m\n",
      "test_models.py \u001b[32m.\u001b[0m\u001b[32m.\u001b[0m\u001b[32m.\u001b[0m\u001b[32m.\u001b[0m\u001b[32m.\u001b[0m\u001b[36m                                                     [100%]\u001b[0m\n",
      "\n",
      "\u001b[33m=============================== warnings summary ===============================\u001b[0m\n",
      "test_models.py::test_model_random_states[seed0]\n",
      "test_models.py::test_model_random_states[seed1]\n",
      "test_models.py::test_save_load\n",
      "  /home/timur/code/allegro_test/src/binary_model.py:114: RuntimeWarning: overflow encountered in exp\n",
      "    return 1/(1+np.exp(-x))\n",
      "\n",
      "test_models.py::test_save_load\n",
      "  /home/timur/code/allegro_test/src/binary_model.py:127: RuntimeWarning: overflow encountered in exp\n",
      "    loss_batch = np.log(1+np.exp(-1*y_batch*lin_comb))\n",
      "\n",
      "-- Docs: https://docs.pytest.org/en/latest/warnings.html\n",
      "\u001b[33m\u001b[1m===================== 9 passed, 4 warnings in 3.64 seconds =====================\u001b[0m\n"
     ]
    }
   ],
   "source": [
    "!pytest"
   ]
  },
  {
   "cell_type": "code",
   "execution_count": 3,
   "metadata": {},
   "outputs": [],
   "source": [
    "def is_composite(y: np.ndarray) -> np.ndarray:\n",
    "    return np.where(np.isin(y, [4,6,8,9]), 1,-1)"
   ]
  },
  {
   "cell_type": "code",
   "execution_count": 4,
   "metadata": {},
   "outputs": [],
   "source": [
    "X, y = load_data(\"train\")\n",
    "\n",
    "X = X.reshape(-1,28*28)\n",
    "y = y.reshape(-1, 1)\n",
    "# +1 - liczba złożona; -1 - liczba prosta\n",
    "y_comp = is_composite(y)\n",
    "\n",
    "# Przeskalowanie danych\n",
    "scaler = Scaler()\n",
    "scaler.fit(X)\n",
    "X_scaled = scaler.standardize(X)"
   ]
  },
  {
   "cell_type": "markdown",
   "metadata": {},
   "source": [
    "## simple EDA"
   ]
  },
  {
   "cell_type": "code",
   "execution_count": 5,
   "metadata": {},
   "outputs": [
    {
     "data": {
      "image/png": "[encoded data removed]",
      "text/plain": [
       "<Figure size 720x1080 with 8 Axes>"
      ]
     },
     "metadata": {},
     "output_type": "display_data"
    }
   ],
   "source": [
    "fig = plt.figure(figsize=(10, 15)) \n",
    "row, col = 2, 4\n",
    "\n",
    "for i in range(1, col+1):\n",
    "    img_idx = np.random.randint(0,high=X.shape[0])\n",
    "    \n",
    "    fig.add_subplot(2, col, i)\n",
    "    plt.imshow(X[img_idx].reshape(28,28), cmap=\"Greys\")\n",
    "    plt.title(f\"num {y[img_idx]}\")\n",
    "    plt.xticks([]), plt.yticks([])\n",
    "    \n",
    "    fig.add_subplot(1, col, i)\n",
    "    plt.imshow(X_scaled[img_idx].reshape(28,28), cmap=\"Greys\")\n",
    "    plt.xticks([]), plt.yticks([])\n"
   ]
  },
  {
   "cell_type": "markdown",
   "metadata": {},
   "source": [
    "#### At the bottom we can see scaled images"
   ]
  },
  {
   "cell_type": "markdown",
   "metadata": {},
   "source": [
    "#### Check class balance"
   ]
  },
  {
   "cell_type": "code",
   "execution_count": 6,
   "metadata": {},
   "outputs": [
    {
     "data": {
      "image/png": "[encoded data removed]",
      "text/plain": [
       "<Figure size 432x288 with 1 Axes>"
      ]
     },
     "metadata": {
      "needs_background": "light"
     },
     "output_type": "display_data"
    }
   ],
   "source": [
    "sns.distplot(y, kde=False);"
   ]
  },
  {
   "cell_type": "markdown",
   "metadata": {},
   "source": [
    "#### Check whether we have balanced distribution across ~10 folds"
   ]
  },
  {
   "cell_type": "code",
   "execution_count": 7,
   "metadata": {},
   "outputs": [
    {
     "name": "stdout",
     "output_type": "stream",
     "text": [
      "[490 498 541 436 508 556 471 500] mean = 500.0, std = 35.21718330588067\n",
      "[523 552 450 440 520 530 487 498] mean = 500.0, std = 36.752550931874104\n",
      "[473 529 496 466 486 533 489 528] mean = 500.0, std = 24.829418035870273\n",
      "[473 527 498 463 491 512 505 531] mean = 500.0, std = 22.477766792989023\n",
      "[530 528 505 463 499 508 481 486] mean = 500.0, std = 21.50581316760657\n",
      "[503 494 482 482 521 520 490 508] mean = 500.0, std = 14.568802284333465\n",
      "[508 511 489 446 491 517 505 533] mean = 500.0, std = 24.253865671269807\n",
      "[511 504 509 459 520 515 490 492] mean = 500.0, std = 18.33030277982336\n",
      "[504 501 466 467 499 549 496 518] mean = 500.0, std = 25.0099980007996\n",
      "[525 535 494 455 493 511 516 471] mean = 500.0, std = 25.441108466417102\n"
     ]
    }
   ],
   "source": [
    "for i in range(10):\n",
    "    _, counts = np.unique(y[4000*i:4000*(i+1)],return_counts=True)\n",
    "    print(counts, f\"mean = {np.mean(counts)}, std = {np.std(counts)}\")"
   ]
  },
  {
   "cell_type": "markdown",
   "metadata": {},
   "source": [
    "#### We have balanced classes, so it is enough to do only hold-out model validation"
   ]
  },
  {
   "cell_type": "code",
   "execution_count": 8,
   "metadata": {},
   "outputs": [],
   "source": [
    "# train/val  80/20\n",
    "val_split = int(X.shape[0] * 0.8)\n",
    "\n",
    "X_train_scaled, X_val_scaled = np.split(X_scaled, [val_split])\n",
    "\n",
    "y_train, y_val = np.split(y, [val_split])\n",
    "y_train_comp, y_val_comp = np.split(y_comp, [val_split])"
   ]
  },
  {
   "cell_type": "markdown",
   "metadata": {},
   "source": [
    "## Binary Logistic regression "
   ]
  },
  {
   "cell_type": "code",
   "execution_count": 21,
   "metadata": {},
   "outputs": [],
   "source": [
    "logreg_binary = LogisticRegressionBinary(C=3, learning_rate_init=0.001, alpha=0.9, weight_decay=0.9, max_iter=10,\n",
    "                                         batch_size= 32, verbose=False, val_split=0.9)"
   ]
  },
  {
   "cell_type": "code",
   "execution_count": 22,
   "metadata": {},
   "outputs": [],
   "source": [
    "logreg_binary.fit(X_train_scaled, y_train_comp);"
   ]
  },
  {
   "cell_type": "markdown",
   "metadata": {},
   "source": [
    "#### Check accuracy on validation data"
   ]
  },
  {
   "cell_type": "code",
   "execution_count": 23,
   "metadata": {},
   "outputs": [
    {
     "data": {
      "text/plain": [
       "0.8734551600295765"
      ]
     },
     "execution_count": 23,
     "metadata": {},
     "output_type": "execute_result"
    }
   ],
   "source": [
    "accuracy(logreg_binary,X_val_scaled,y_val_comp)"
   ]
  },
  {
   "cell_type": "markdown",
   "metadata": {},
   "source": [
    "#### We want to predict mathematical property based on image. It is contrintuitive approach, so we can build model to predict number and based on that number we can get mathematical proprety. From this reason I will use multinomial logistic regression"
   ]
  },
  {
   "cell_type": "markdown",
   "metadata": {},
   "source": [
    "## Multinomial Logistic regression"
   ]
  },
  {
   "cell_type": "markdown",
   "metadata": {},
   "source": [
    "This model inherits from binary logistic regression. New loss function and analytic gradient is provided"
   ]
  },
  {
   "cell_type": "code",
   "execution_count": 31,
   "metadata": {},
   "outputs": [],
   "source": [
    "logreg_multi = LogisticRegressionMulti(C=3, learning_rate_init=0.01, alpha=0.9,\n",
    "                                         weight_decay=0.9, max_iter=10, batch_size= 32 ,verbose=False,\n",
    "                                         val_split=0.9, num_classes=8, random_state=25)"
   ]
  },
  {
   "cell_type": "code",
   "execution_count": 32,
   "metadata": {},
   "outputs": [
    {
     "name": "stdout",
     "output_type": "stream",
     "text": [
      "Stopping criteria is met!\n"
     ]
    }
   ],
   "source": [
    "logreg_multi.fit(X_train_scaled, y_train);"
   ]
  },
  {
   "cell_type": "code",
   "execution_count": 33,
   "metadata": {},
   "outputs": [
    {
     "data": {
      "text/plain": [
       "0.8814830463716067"
      ]
     },
     "execution_count": 33,
     "metadata": {},
     "output_type": "execute_result"
    }
   ],
   "source": [
    "accuracy(logreg_multi, X_val_scaled, y_val)"
   ]
  },
  {
   "cell_type": "markdown",
   "metadata": {},
   "source": [
    "#### Potencially, this model has bigger capacity, so results will be better. As we can see after few epochs result has improved "
   ]
  },
  {
   "cell_type": "markdown",
   "metadata": {},
   "source": [
    "#### Create confusion matrix to see potencial problems of our model"
   ]
  },
  {
   "cell_type": "code",
   "execution_count": 34,
   "metadata": {},
   "outputs": [
    {
     "data": {
      "image/png": "[encoded data removed]",
      "text/plain": [
       "<Figure size 864x864 with 2 Axes>"
      ]
     },
     "metadata": {},
     "output_type": "display_data"
    }
   ],
   "source": [
    "preds = logreg_multi.predict(X_val_scaled)\n",
    "confusion_matrix(preds, y_val.ravel());"
   ]
  },
  {
   "cell_type": "code",
   "execution_count": 35,
   "metadata": {},
   "outputs": [
    {
     "name": "stdout",
     "output_type": "stream",
     "text": [
      "0.9377838808492659\n"
     ]
    }
   ],
   "source": [
    "preds_comp = logreg_multi.predict_composite(X_val_scaled)\n",
    "acc_comp = sum(preds_comp == y_val_comp.ravel()) / len(y_val_comp)\n",
    "print(acc_comp)"
   ]
  },
  {
   "cell_type": "markdown",
   "metadata": {},
   "source": [
    "## Search hyperparameters "
   ]
  },
  {
   "cell_type": "markdown",
   "metadata": {},
   "source": [
    "I performed search of hyperparameters in google colab. Moreover, tryed PCA+Polymomials features approach."
   ]
  },
  {
   "cell_type": "raw",
   "metadata": {},
   "source": [
    "# best parameters according to RandomSearch\n",
    "{'C': 5,\n",
    "  'alpha': 0.5,\n",
    "  'learning_rate_init': 0.1,\n",
    "  'val_split': 1,\n",
    "  'weight_decay': 0.6\n",
    "} "
   ]
  },
  {
   "cell_type": "markdown",
   "metadata": {},
   "source": [
    "## Results on test data"
   ]
  },
  {
   "cell_type": "markdown",
   "metadata": {},
   "source": [
    "#### Used  logreg_rs_colab.ipynb to train and evaluate model on PCA+Polynomials data\n",
    "\n",
    "#### Accuracy test data : 95,47% - number classification\n",
    "#### Accuracy test data : 97,29% - composite number test "
   ]
  }
 ],
 "metadata": {
  "colab": {
   "name": "Research_Engineer_Warszawa_i_Kraków",
   "provenance": []
  },
  "kernelspec": {
   "display_name": "Python 3",
   "language": "python",
   "name": "python3"
  },
  "language_info": {
   "codemirror_mode": {
    "name": "ipython",
    "version": 3
   },
   "file_extension": ".py",
   "mimetype": "text/x-python",
   "name": "python",
   "nbconvert_exporter": "python",
   "pygments_lexer": "ipython3",
   "version": "3.6.10"
  }
 },
 "nbformat": 4,
 "nbformat_minor": 4
}

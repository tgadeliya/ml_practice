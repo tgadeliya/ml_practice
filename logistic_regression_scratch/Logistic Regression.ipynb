{
 "cells": [
  {
   "cell_type": "raw",
   "metadata": {},
   "source": [
    "# TODO\n",
    "1) Sanity check SGD Binary\n",
    "2) Оформить sanity check (+ тесты докинуть)\n",
    "\n",
    "3) Начать добывать фичи:\n",
    "    - PCA\n",
    "    - haar\n",
    "\n",
    "+) Random Search простой\n",
    "    - momentum is between 0.5 to 0.9.\n",
    "\n",
    "-) LGVanillaSGD:\n",
    "    3) save\\load json\n",
    "    4) Логгирование\n",
    "    \n",
    "-) Разложить тест на части"
   ]
  },
  {
   "cell_type": "markdown",
   "metadata": {},
   "source": [
    "# Logistic Regression with SGD Momentum"
   ]
  },
  {
   "cell_type": "markdown",
   "metadata": {},
   "source": [
    "### Importing necessary modules"
   ]
  },
  {
   "cell_type": "code",
   "execution_count": 2,
   "metadata": {},
   "outputs": [],
   "source": [
    "import numpy as np\n",
    "\n",
    "import random\n",
    "\n",
    "from sklearn.metrics import accuracy_score\n",
    "from sklearn.linear_model import LogisticRegressionCV\n",
    "from sklearn.decomposition import PCA\n",
    "from sklearn.linear_model import SGDClassifier\n",
    "\n",
    "\n",
    "\n",
    "from scipy.sparse import issparse\n",
    "\n",
    "\n",
    "\n",
    "from src.preprocessing import load_data\n",
    "from src.preprocessing import Scaler\n"
   ]
  },
  {
   "cell_type": "markdown",
   "metadata": {},
   "source": [
    "### Loading train/test datasets"
   ]
  },
  {
   "cell_type": "code",
   "execution_count": 3,
   "metadata": {},
   "outputs": [],
   "source": [
    "X_train, y_train = load_data(\"train\")\n",
    "\n",
    "X_train = X_train.reshape(-1,28*28) # flatten images to get vector\n",
    "y_train = y_train.reshape(-1,1)\n",
    "\n",
    "# +1 - even\n",
    "# -1 - odd\n",
    "y_train_parity = np.where(y_train%2, -1, 1) \n",
    "\n",
    "# Standardize train dataset\n",
    "scaler = Scaler()\n",
    "scaler.fit(X_train)\n",
    "X_train_scaled = scaler.standardize(X_train)"
   ]
  },
  {
   "cell_type": "code",
   "execution_count": 4,
   "metadata": {},
   "outputs": [],
   "source": [
    "X_test, y_test = load_data(\"t10k\")"
   ]
  },
  {
   "cell_type": "code",
   "execution_count": 4,
   "metadata": {},
   "outputs": [],
   "source": [
    "X_test_scaled = scaler.standardize(X_test.reshape(-1,28*28))\n",
    "y_test_parity = np.where(y_test%2, -1, 1) "
   ]
  },
  {
   "cell_type": "markdown",
   "metadata": {},
   "source": [
    "### Binary Logistic Regression : mini-batch SGD with Momentum"
   ]
  },
  {
   "cell_type": "code",
   "execution_count": 5,
   "metadata": {},
   "outputs": [],
   "source": [
    "from src.models import LogisticRegressionBinary\n",
    "\n",
    "model = LogisticRegressionBinary(C=1, learning_rate_init = 0.0064, weight_decay = 0.9, alpha=0.9, max_iter=100, batch_size=64)"
   ]
  },
  {
   "cell_type": "code",
   "execution_count": 7,
   "metadata": {
    "collapsed": true,
    "jupyter": {
     "outputs_hidden": true
    }
   },
   "outputs": [
    {
     "name": "stdout",
     "output_type": "stream",
     "text": [
      "Epoch 1: train_loss: 1.642085705401625, train_acc: [0.86422309]\n",
      "_____________________________\n",
      "Epoch 2: train_loss: 1.725696813928252, train_acc: [0.85680786]\n",
      "_____________________________\n",
      "Epoch 3: train_loss: 1.6886595953755499, train_acc: [0.85921622]\n",
      "_____________________________\n",
      "Epoch 4: train_loss: 1.7544616944234122, train_acc: [0.85592057]\n",
      "_____________________________\n",
      "Epoch 5: train_loss: 1.724145836681698, train_acc: [0.85866695]\n",
      "_____________________________\n",
      "Epoch 6: train_loss: 1.6769451802136353, train_acc: [0.86147671]\n",
      "_____________________________\n",
      "Epoch 7: train_loss: 1.7079815397117233, train_acc: [0.86063167]\n",
      "_____________________________\n",
      "Epoch 8: train_loss: 1.6688767172501286, train_acc: [0.86063167]\n",
      "_____________________________\n",
      "Epoch 9: train_loss: 1.6486360422688793, train_acc: [0.86251188]\n",
      "_____________________________\n",
      "Epoch 10: train_loss: 1.770788854320175, train_acc: [0.86027253]\n",
      "_____________________________\n",
      "Epoch 11: train_loss: 1.6698516460160218, train_acc: [0.86001901]\n",
      "_____________________________\n",
      "Epoch 12: train_loss: 1.7100994211944107, train_acc: [0.86058942]\n",
      "_____________________________\n",
      "Epoch 13: train_loss: 1.6982071602700402, train_acc: [0.86289215]\n",
      "_____________________________\n",
      "Epoch 14: train_loss: 1.6806829707692956, train_acc: [0.86223725]\n",
      "_____________________________\n",
      "Epoch 15: train_loss: 1.6683681278500213, train_acc: [0.86067392]\n",
      "_____________________________\n",
      "Epoch 16: train_loss: 1.6891867994790064, train_acc: [0.86223725]\n",
      "_____________________________\n",
      "Epoch 17: train_loss: 1.6934602461516106, train_acc: [0.86223725]\n",
      "_____________________________\n",
      "Epoch 18: train_loss: 1.7026863969143176, train_acc: [0.86058942]\n",
      "_____________________________\n",
      "Epoch 19: train_loss: 1.6642424729613634, train_acc: [0.86263864]\n",
      "_____________________________\n",
      "Epoch 20: train_loss: 1.6818768142680631, train_acc: [0.86219499]\n",
      "_____________________________\n",
      "Epoch 21: train_loss: 1.673458214459878, train_acc: [0.86054716]\n",
      "_____________________________\n",
      "Epoch 22: train_loss: 1.6512844067737493, train_acc: [0.86225837]\n",
      "_____________________________\n",
      "Epoch 23: train_loss: 1.67078337952347, train_acc: [0.86134995]\n",
      "_____________________________\n",
      "Epoch 24: train_loss: 1.6625001989926942, train_acc: [0.86101194]\n",
      "_____________________________\n",
      "Epoch 25: train_loss: 1.645959658233307, train_acc: [0.86147671]\n",
      "_____________________________\n",
      "Epoch 26: train_loss: 1.666112316812585, train_acc: [0.86274427]\n",
      "_____________________________\n",
      "Epoch 27: train_loss: 1.6829089568450342, train_acc: [0.86143446]\n",
      "_____________________________\n",
      "Epoch 28: train_loss: 1.6780168219202605, train_acc: [0.86202599]\n",
      "_____________________________\n",
      "Epoch 29: train_loss: 1.6531004407336765, train_acc: [0.8618781]\n",
      "_____________________________\n",
      "Epoch 30: train_loss: 1.6694736732018145, train_acc: [0.86194148]\n",
      "_____________________________\n",
      "Epoch 31: train_loss: 1.6636384576807741, train_acc: [0.86128657]\n",
      "_____________________________\n",
      "Epoch 32: train_loss: 1.6912068520347976, train_acc: [0.86058942]\n",
      "_____________________________\n",
      "Epoch 33: train_loss: 1.6697659413238493, train_acc: [0.86086405]\n",
      "_____________________________\n",
      "Epoch 34: train_loss: 1.6779052480440428, train_acc: [0.8612232]\n",
      "_____________________________\n",
      "Epoch 35: train_loss: 1.6678652883527607, train_acc: [0.86259639]\n",
      "_____________________________\n",
      "Epoch 36: train_loss: 1.6667430907582, train_acc: [0.86128657]\n",
      "_____________________________\n",
      "Epoch 37: train_loss: 1.6728264104150055, train_acc: [0.86208936]\n",
      "_____________________________\n",
      "Epoch 38: train_loss: 1.680688658147439, train_acc: [0.86145558]\n",
      "_____________________________\n",
      "Epoch 39: train_loss: 1.6692271025601735, train_acc: [0.86206824]\n",
      "_____________________________\n",
      "Epoch 40: train_loss: 1.6658052232412104, train_acc: [0.86168797]\n",
      "_____________________________\n",
      "Epoch 41: train_loss: 1.6689915818019054, train_acc: [0.86160346]\n",
      "_____________________________\n",
      "Epoch 42: train_loss: 1.672581902803831, train_acc: [0.8613077]\n",
      "_____________________________\n",
      "Epoch 43: train_loss: 1.6677912885515986, train_acc: [0.86154009]\n",
      "_____________________________\n",
      "Epoch 44: train_loss: 1.6721831361536603, train_acc: [0.8607373]\n",
      "_____________________________\n",
      "Epoch 45: train_loss: 1.6674714085795144, train_acc: [0.86181472]\n",
      "_____________________________\n",
      "Epoch 46: train_loss: 1.6840478067477649, train_acc: [0.86077955]\n",
      "_____________________________\n",
      "Epoch 47: train_loss: 1.6799713419766191, train_acc: [0.86211049]\n",
      "_____________________________\n",
      "Epoch 48: train_loss: 1.6715103194401824, train_acc: [0.86166684]\n",
      "_____________________________\n",
      "Epoch 49: train_loss: 1.658633942742472, train_acc: [0.86192035]\n",
      "_____________________________\n",
      "Epoch 50: train_loss: 1.6755555202375658, train_acc: [0.86141333]\n",
      "_____________________________\n",
      "Epoch 51: train_loss: 1.6719036762013901, train_acc: [0.86230062]\n",
      "_____________________________\n",
      "Epoch 52: train_loss: 1.672821685306451, train_acc: [0.86198373]\n",
      "_____________________________\n",
      "Epoch 53: train_loss: 1.6760249195950894, train_acc: [0.86183585]\n",
      "_____________________________\n",
      "Epoch 54: train_loss: 1.6696090560238557, train_acc: [0.8618781]\n",
      "_____________________________\n",
      "Epoch 55: train_loss: 1.6744757608625047, train_acc: [0.86175135]\n",
      "_____________________________\n",
      "Epoch 56: train_loss: 1.666452476666516, train_acc: [0.86206824]\n",
      "_____________________________\n",
      "Epoch 57: train_loss: 1.6815967158279004, train_acc: [0.86090631]\n",
      "_____________________________\n",
      "Epoch 58: train_loss: 1.676687050804352, train_acc: [0.86177247]\n",
      "_____________________________\n",
      "Epoch 59: train_loss: 1.6732065410746841, train_acc: [0.86173022]\n",
      "_____________________________\n",
      "Epoch 60: train_loss: 1.674799802263407, train_acc: [0.86149783]\n",
      "_____________________________\n",
      "Epoch 61: train_loss: 1.6742325829459022, train_acc: [0.86189923]\n",
      "_____________________________\n",
      "Epoch 62: train_loss: 1.669849763207564, train_acc: [0.86154009]\n",
      "_____________________________\n",
      "Epoch 63: train_loss: 1.6775585691427286, train_acc: [0.86149783]\n",
      "_____________________________\n",
      "Epoch 64: train_loss: 1.6866287602079395, train_acc: [0.86124432]\n",
      "_____________________________\n",
      "Epoch 65: train_loss: 1.6766690166190832, train_acc: [0.86141333]\n",
      "_____________________________\n",
      "Epoch 66: train_loss: 1.6707155693388804, train_acc: [0.86192035]\n",
      "_____________________________\n",
      "Epoch 67: train_loss: 1.669811752482005, train_acc: [0.86189923]\n",
      "_____________________________\n",
      "Epoch 68: train_loss: 1.675279717002381, train_acc: [0.86158234]\n",
      "_____________________________\n",
      "Epoch 69: train_loss: 1.6738196249376536, train_acc: [0.86141333]\n",
      "_____________________________\n",
      "Epoch 70: train_loss: 1.6767405795596781, train_acc: [0.86168797]\n",
      "_____________________________\n",
      "Epoch 71: train_loss: 1.6754569765851186, train_acc: [0.86194148]\n",
      "_____________________________\n",
      "Epoch 72: train_loss: 1.67512845693855, train_acc: [0.86149783]\n",
      "_____________________________\n",
      "Epoch 73: train_loss: 1.6809714891365597, train_acc: [0.86175135]\n",
      "_____________________________\n",
      "Epoch 74: train_loss: 1.674387256870648, train_acc: [0.86109644]\n",
      "_____________________________\n",
      "Epoch 75: train_loss: 1.6730431491993627, train_acc: [0.86181472]\n",
      "_____________________________\n",
      "Epoch 76: train_loss: 1.673279085675878, train_acc: [0.86181472]\n",
      "_____________________________\n",
      "Epoch 77: train_loss: 1.6769650205777953, train_acc: [0.86137108]\n",
      "_____________________________\n",
      "Epoch 78: train_loss: 1.6809773496736726, train_acc: [0.86120207]\n",
      "_____________________________\n",
      "Epoch 79: train_loss: 1.6752428188080208, train_acc: [0.86181472]\n",
      "_____________________________\n",
      "Epoch 80: train_loss: 1.669893537820333, train_acc: [0.86170909]\n",
      "_____________________________\n",
      "Epoch 81: train_loss: 1.6731140668470381, train_acc: [0.86134995]\n",
      "_____________________________\n",
      "Epoch 82: train_loss: 1.6772608407218965, train_acc: [0.86164572]\n",
      "_____________________________\n",
      "Epoch 83: train_loss: 1.6746753292554009, train_acc: [0.86126545]\n",
      "_____________________________\n",
      "Epoch 84: train_loss: 1.6735941118140545, train_acc: [0.86128657]\n",
      "_____________________________\n",
      "Epoch 85: train_loss: 1.6721971920031207, train_acc: [0.86128657]\n",
      "_____________________________\n",
      "Epoch 86: train_loss: 1.671521877193405, train_acc: [0.8618781]\n",
      "_____________________________\n",
      "Stopping criteria is met!\n"
     ]
    }
   ],
   "source": [
    "model.fit(X_train_scaled, y_train_parity)"
   ]
  },
  {
   "cell_type": "code",
   "execution_count": 8,
   "metadata": {},
   "outputs": [
    {
     "name": "stdout",
     "output_type": "stream",
     "text": [
      "Train:  0.8618781028837013\n"
     ]
    }
   ],
   "source": [
    "from src.evaluation import model_acc\n",
    "model_acc(model, X_train_scaled, y_train_parity)"
   ]
  },
  {
   "cell_type": "markdown",
   "metadata": {},
   "source": [
    "### Multi-class Logistic Regression"
   ]
  },
  {
   "cell_type": "code",
   "execution_count": 7,
   "metadata": {},
   "outputs": [],
   "source": [
    "from src.models import LogisticRegressionBinary\n",
    "from src.models import LogisticRegressionMulti"
   ]
  },
  {
   "cell_type": "markdown",
   "metadata": {},
   "source": [
    "### Random Search"
   ]
  },
  {
   "cell_type": "code",
   "execution_count": 5,
   "metadata": {},
   "outputs": [],
   "source": [
    "   \n",
    "params = {\"C\" : [0.3, 1, 2],\n",
    "          \"learning_rate_init\" : [10**(-x) for x in np.arange(1,5,1, dtype=\"float\")],\n",
    "          \"weight_decay\" : np.arange(6, 9 , 1) * 0.1,\n",
    "          \"alpha\" : np.arange(6, 9 , 1) * 0.1\n",
    "}"
   ]
  },
  {
   "cell_type": "code",
   "execution_count": 37,
   "metadata": {
    "collapsed": true,
    "jupyter": {
     "outputs_hidden": true
    }
   },
   "outputs": [
    {
     "name": "stdout",
     "output_type": "stream",
     "text": [
      "ACC 0.8697979015562284\n",
      "ACC 0.8523343426519259\n",
      "ACC 0.8604323639180339\n",
      "ACC 0.863249066967115\n",
      "ACC 0.8367016407295261\n",
      "ACC 0.8506443208224773\n",
      "ACC 0.8350820364763045\n",
      "ACC 0.87402295612985\n",
      "ACC 0.8845855925639039\n",
      "ACC 0.8404337722695585\n"
     ]
    }
   ],
   "source": [
    "from src.models import LogisticRegressionBinary, LogisticRegressionMulti\n",
    "\n",
    "rand = RandomSearch(10, params, validation_split = 0.7, model_classes = 8)\n",
    "best_score, best_params = rand.fit(LogisticRegressionMulti, X_train, y_train, n_model_iter=10)"
   ]
  },
  {
   "cell_type": "markdown",
   "metadata": {},
   "source": [
    "### Train on the whole data"
   ]
  },
  {
   "cell_type": "code",
   "execution_count": 56,
   "metadata": {},
   "outputs": [],
   "source": [
    "model = LogisticRegressionMulti(C=1, learning_rate_init=0.005, alpha=0.9, weight_decay=0.9, max_iter=10, batch_size=32, random_state=25, tol=0.001, num_classes=8)"
   ]
  },
  {
   "cell_type": "code",
   "execution_count": 57,
   "metadata": {},
   "outputs": [],
   "source": [
    "model.fit(X_train_scaled, y_train)"
   ]
  },
  {
   "cell_type": "markdown",
   "metadata": {},
   "source": [
    "### Test predict"
   ]
  },
  {
   "cell_type": "code",
   "execution_count": 122,
   "metadata": {},
   "outputs": [],
   "source": [
    "preds = model.predict(X_test_scaled)"
   ]
  },
  {
   "cell_type": "markdown",
   "metadata": {},
   "source": [
    "### PCA"
   ]
  },
  {
   "cell_type": "markdown",
   "metadata": {},
   "source": [
    "### JSON"
   ]
  },
  {
   "cell_type": "code",
   "execution_count": 2,
   "metadata": {},
   "outputs": [],
   "source": [
    "from src.models import LogisticRegressionBinary"
   ]
  },
  {
   "cell_type": "code",
   "execution_count": 3,
   "metadata": {},
   "outputs": [],
   "source": [
    "g = LogisticRegressionBinary()"
   ]
  },
  {
   "cell_type": "code",
   "execution_count": 4,
   "metadata": {},
   "outputs": [],
   "source": [
    "g.load_model(\"test.json\")"
   ]
  },
  {
   "cell_type": "code",
   "execution_count": 7,
   "metadata": {},
   "outputs": [
    {
     "ename": "AttributeError",
     "evalue": "'LogisticRegressionBinary' object has no attribute 'model_params_dict'",
     "output_type": "error",
     "traceback": [
      "\u001b[0;31m---------------------------------------------------------------------------\u001b[0m",
      "\u001b[0;31mAttributeError\u001b[0m                            Traceback (most recent call last)",
      "\u001b[0;32m<ipython-input-7-2724fc7e5308>\u001b[0m in \u001b[0;36m<module>\u001b[0;34m\u001b[0m\n\u001b[0;32m----> 1\u001b[0;31m \u001b[0mg\u001b[0m\u001b[0;34m.\u001b[0m\u001b[0msave_model\u001b[0m\u001b[0;34m(\u001b[0m\u001b[0;34m\"test1.json\"\u001b[0m\u001b[0;34m)\u001b[0m\u001b[0;34m\u001b[0m\u001b[0;34m\u001b[0m\u001b[0m\n\u001b[0m",
      "\u001b[0;32m~/code/ml_practice/logistic_regression_scratch/src/models.py\u001b[0m in \u001b[0;36msave_model\u001b[0;34m(self, file_path)\u001b[0m\n\u001b[1;32m    127\u001b[0m     \u001b[0;32mdef\u001b[0m \u001b[0msave_model\u001b[0m\u001b[0;34m(\u001b[0m\u001b[0mself\u001b[0m\u001b[0;34m,\u001b[0m \u001b[0mfile_path\u001b[0m\u001b[0;34m)\u001b[0m\u001b[0;34m:\u001b[0m\u001b[0;34m\u001b[0m\u001b[0;34m\u001b[0m\u001b[0m\n\u001b[1;32m    128\u001b[0m \u001b[0;34m\u001b[0m\u001b[0m\n\u001b[0;32m--> 129\u001b[0;31m         \u001b[0mmodel_params_dict\u001b[0m \u001b[0;34m=\u001b[0m \u001b[0mself\u001b[0m\u001b[0;34m.\u001b[0m\u001b[0mmodel_params_dict\u001b[0m\u001b[0;34m\u001b[0m\u001b[0;34m\u001b[0m\u001b[0m\n\u001b[0m\u001b[1;32m    130\u001b[0m         \u001b[0mmodel_params_dict\u001b[0m\u001b[0;34m[\u001b[0m\u001b[0;34m\"w\"\u001b[0m\u001b[0;34m]\u001b[0m \u001b[0;34m=\u001b[0m \u001b[0mself\u001b[0m\u001b[0;34m.\u001b[0m\u001b[0mw\u001b[0m\u001b[0;34m.\u001b[0m\u001b[0mtolist\u001b[0m\u001b[0;34m(\u001b[0m\u001b[0;34m)\u001b[0m\u001b[0;34m\u001b[0m\u001b[0;34m\u001b[0m\u001b[0m\n\u001b[1;32m    131\u001b[0m \u001b[0;34m\u001b[0m\u001b[0m\n",
      "\u001b[0;31mAttributeError\u001b[0m: 'LogisticRegressionBinary' object has no attribute 'model_params_dict'"
     ]
    }
   ],
   "source": [
    "g.save_model(\"test1.json\")"
   ]
  }
 ],
 "metadata": {
  "kernelspec": {
   "display_name": "Python 3",
   "language": "python",
   "name": "python3"
  },
  "language_info": {
   "codemirror_mode": {
    "name": "ipython",
    "version": 3
   },
   "file_extension": ".py",
   "mimetype": "text/x-python",
   "name": "python",
   "nbconvert_exporter": "python",
   "pygments_lexer": "ipython3",
   "version": "3.6.10"
  }
 },
 "nbformat": 4,
 "nbformat_minor": 4
}

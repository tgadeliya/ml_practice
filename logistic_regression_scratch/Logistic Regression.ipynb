{
 "cells": [
  {
   "cell_type": "markdown",
   "metadata": {},
   "source": [
    "# Logistic Regression with SGD Momentum"
   ]
  },
  {
   "cell_type": "markdown",
   "metadata": {},
   "source": [
    "### Creating Numpy array"
   ]
  },
  {
   "cell_type": "markdown",
   "metadata": {},
   "source": [
    "# Data preparation"
   ]
  },
  {
   "cell_type": "markdown",
   "metadata": {},
   "source": [
    "### Download"
   ]
  },
  {
   "cell_type": "code",
   "execution_count": 1,
   "metadata": {
    "jupyter": {
     "source_hidden": true
    }
   },
   "outputs": [],
   "source": [
    "#!wget http://yann.lecun.com/exdb/mnist/train-images-idx3-ubyte.gz;\n",
    "#!wget http://yann.lecun.com/exdb/mnist/train-labels-idx1-ubyte.gz;\n",
    "#!wget http://yann.lecun.com/exdb/mnist/t10k-images-idx3-ubyte.gz;\n",
    "#!wget http://yann.lecun.com/exdb/mnist/t10k-labels-idx1-ubyte.gz;\n",
    "# Unpacking all files\n",
    "#!gunzip *.gz"
   ]
  },
  {
   "cell_type": "markdown",
   "metadata": {},
   "source": [
    "# Узнать про типы данныхпо примеру у_train"
   ]
  },
  {
   "cell_type": "code",
   "execution_count": 1,
   "metadata": {},
   "outputs": [],
   "source": [
    "from sklearn.linear_model import SGDClassifier\n",
    "from sklearn.linear_model import LogisticRegressionCV\n",
    "from sklearn.decomposition import PCA\n",
    "from sklearn.metrics import accuracy_score\n",
    "\n",
    "from src.preprocessing import Scaler\n",
    "from src.metrics import train_test"
   ]
  },
  {
   "cell_type": "code",
   "execution_count": 2,
   "metadata": {},
   "outputs": [],
   "source": [
    "import numpy as np\n",
    "from src.preprocessing import load_data\n",
    "\n",
    "X_train, y_train = load_data(\"train\")\n",
    "\n",
    "X_train = X_train.reshape(-1,28*28)\n",
    "y_train = y_train.reshape(-1,1)\n",
    "# +1 - even\n",
    "# -1 - odd\n",
    "y_train_parity = np.where(y_train%2, -1, 1) "
   ]
  },
  {
   "cell_type": "markdown",
   "metadata": {},
   "source": [
    "### Scaler implementation(?)"
   ]
  },
  {
   "cell_type": "markdown",
   "metadata": {},
   "source": [
    "### Faster then sklearn.preprocessing.StandardScaler"
   ]
  },
  {
   "cell_type": "code",
   "execution_count": 3,
   "metadata": {},
   "outputs": [],
   "source": [
    "scaler = Scaler()\n",
    "scaler.fit(X_train)\n",
    "X_train_scaled = scaler.standardize(X_train)"
   ]
  },
  {
   "cell_type": "markdown",
   "metadata": {},
   "source": [
    "### Visualization"
   ]
  },
  {
   "cell_type": "code",
   "execution_count": 4,
   "metadata": {},
   "outputs": [
    {
     "name": "stdout",
     "output_type": "stream",
     "text": [
      "[7]\n"
     ]
    },
    {
     "data": {
      "image/png": "[encoded data removed]",
      "text/plain": [
       "<Figure size 432x288 with 1 Axes>"
      ]
     },
     "metadata": {
      "needs_background": "light"
     },
     "output_type": "display_data"
    }
   ],
   "source": [
    "import matplotlib.pyplot as plt\n",
    "\n",
    "idx = 1046#np.random.randint(0, high=X_train_scaled.shape[0])\n",
    "print(y_train[idx])\n",
    "image = np.asarray(X_train[idx]).reshape(28, 28)\n",
    "plt.imshow(image)\n",
    "plt.show()"
   ]
  },
  {
   "cell_type": "markdown",
   "metadata": {},
   "source": [
    "# Test"
   ]
  },
  {
   "cell_type": "code",
   "execution_count": 5,
   "metadata": {},
   "outputs": [],
   "source": [
    "X_test, y_test = load_data(\"t10k\")\n",
    "\n",
    "X_test = X_test.reshape(-1,28*28)\n",
    "y_test = y_test.reshape(-1,1)\n",
    "# +1 - even\n",
    "# -1 - odd\n",
    "y_test_parity = np.where(y_test%2, -1, 1) \n",
    "X_test_scaled = scaler.standardize(X_test)"
   ]
  },
  {
   "cell_type": "markdown",
   "metadata": {},
   "source": [
    "### Bencmark"
   ]
  },
  {
   "cell_type": "code",
   "execution_count": 6,
   "metadata": {},
   "outputs": [],
   "source": [
    "# Benchmark\n",
    "\n",
    "sdg_sk = SGDClassifier(loss=\"log\", n_jobs=-1)\n",
    "log_cv = LogisticRegressionCV()"
   ]
  },
  {
   "cell_type": "code",
   "execution_count": 7,
   "metadata": {},
   "outputs": [
    {
     "name": "stdout",
     "output_type": "stream",
     "text": [
      "Train:  0.9013203760430971\n",
      "Test:  0.8980342422320863\n"
     ]
    }
   ],
   "source": [
    "sdg_sk.fit(X_train_scaled,y_train_parity.ravel())\n",
    "\n",
    "preds = sdg_sk.predict(X_train_scaled)\n",
    "print(\"Train: \",accuracy_score(y_train_parity, preds))\n",
    "\n",
    "preds = sdg_sk.predict(X_test_scaled)\n",
    "print(\"Test: \", accuracy_score(y_test_parity, preds))"
   ]
  },
  {
   "cell_type": "markdown",
   "metadata": {},
   "source": [
    "# Feature engineering"
   ]
  },
  {
   "cell_type": "code",
   "execution_count": 55,
   "metadata": {},
   "outputs": [
    {
     "data": {
      "text/plain": [
       "(12,)"
      ]
     },
     "execution_count": 55,
     "metadata": {},
     "output_type": "execute_result"
    }
   ],
   "source": [
    "X_train[:,:12].max(axis=0).shape"
   ]
  },
  {
   "cell_type": "code",
   "execution_count": 33,
   "metadata": {},
   "outputs": [
    {
     "data": {
      "text/plain": [
       "array([0, 0, 0, 0, 0, 0, 0, 0, 0, 0, 0, 0], dtype=uint8)"
      ]
     },
     "execution_count": 33,
     "metadata": {},
     "output_type": "execute_result"
    }
   ],
   "source": [
    "X_test.max(axis=0)[:12]"
   ]
  },
  {
   "cell_type": "code",
   "execution_count": 13,
   "metadata": {},
   "outputs": [
    {
     "name": "stdout",
     "output_type": "stream",
     "text": [
      "Train:  0.844111122847787\n",
      "Test:  0.8409638554216867\n"
     ]
    }
   ],
   "source": [
    "model = LogisticRegressionBinary(alpha = 0.9, C = 1.1, learning_rate = 0.01, max_iter = 20, eps = 10e-6, batch_size = 64, shuffle=True)\n",
    "train_test(model, X_train_scaled, y_train_parity, X_test_scaled, y_test_parity)"
   ]
  },
  {
   "cell_type": "code",
   "execution_count": 20,
   "metadata": {},
   "outputs": [
    {
     "name": "stdout",
     "output_type": "stream",
     "text": [
      "Train:  0.8561529523608323\n",
      "Test:  0.8502219403931516\n"
     ]
    }
   ],
   "source": [
    "model = LogisticRegressionBinary(alpha = 0.9, C = 1.1, learning_rate = 0.006, max_iter = 20, eps = 10e-6, batch_size = 64, shuffle=True)\n",
    "train_test(model, X_train_scaled[:,12:], y_train_parity, X_test_scaled[:,12:], y_test_parity)"
   ]
  },
  {
   "cell_type": "markdown",
   "metadata": {},
   "source": [
    "# PCA"
   ]
  },
  {
   "cell_type": "code",
   "execution_count": 36,
   "metadata": {},
   "outputs": [],
   "source": [
    "pca = PCA(n_components=10)\n",
    "pca.fit(X_train)\n",
    "\n",
    "X_train_pca = pca.transform(X_train)\n",
    "X_test_pca = pca.transform(X_test)"
   ]
  },
  {
   "cell_type": "code",
   "execution_count": 37,
   "metadata": {},
   "outputs": [
    {
     "name": "stderr",
     "output_type": "stream",
     "text": [
      "/home/timur/anaconda3/lib/python3.6/site-packages/ipykernel_launcher.py:65: RuntimeWarning: overflow encountered in exp\n",
      "/home/timur/anaconda3/lib/python3.6/site-packages/ipykernel_launcher.py:80: RuntimeWarning: overflow encountered in exp\n"
     ]
    },
    {
     "name": "stdout",
     "output_type": "stream",
     "text": [
      "Train:  0.7737614872715749\n",
      "Test:  0.7652504755865568\n"
     ]
    }
   ],
   "source": [
    "model = LogisticRegressionBinary(alpha = 0.9, C = 1.1, learning_rate = 0.006, max_iter = 20, eps = 10e-6, batch_size = 64, shuffle=True)\n",
    "train_test(model, X_train_pca, y_train_parity, X_test_pca, y_test_parity)"
   ]
  },
  {
   "cell_type": "code",
   "execution_count": 38,
   "metadata": {},
   "outputs": [
    {
     "name": "stdout",
     "output_type": "stream",
     "text": [
      "10\n"
     ]
    },
    {
     "name": "stderr",
     "output_type": "stream",
     "text": [
      "/home/timur/anaconda3/lib/python3.6/site-packages/ipykernel_launcher.py:65: RuntimeWarning: overflow encountered in exp\n",
      "/home/timur/anaconda3/lib/python3.6/site-packages/ipykernel_launcher.py:80: RuntimeWarning: overflow encountered in exp\n"
     ]
    },
    {
     "name": "stdout",
     "output_type": "stream",
     "text": [
      "Train:  0.8266399070455266\n",
      "Test:  0.8296766011414077\n",
      "________________________________\n",
      "20\n"
     ]
    },
    {
     "name": "stderr",
     "output_type": "stream",
     "text": [
      "/home/timur/anaconda3/lib/python3.6/site-packages/ipykernel_launcher.py:65: RuntimeWarning: overflow encountered in exp\n",
      "/home/timur/anaconda3/lib/python3.6/site-packages/ipykernel_launcher.py:80: RuntimeWarning: overflow encountered in exp\n"
     ]
    },
    {
     "name": "stdout",
     "output_type": "stream",
     "text": [
      "Train:  0.8467730009506708\n",
      "Test:  0.8445149017121116\n",
      "________________________________\n",
      "30\n"
     ]
    },
    {
     "name": "stderr",
     "output_type": "stream",
     "text": [
      "/home/timur/anaconda3/lib/python3.6/site-packages/ipykernel_launcher.py:65: RuntimeWarning: overflow encountered in exp\n",
      "/home/timur/anaconda3/lib/python3.6/site-packages/ipykernel_launcher.py:80: RuntimeWarning: overflow encountered in exp\n"
     ]
    },
    {
     "name": "stdout",
     "output_type": "stream",
     "text": [
      "Train:  0.8473222773845991\n",
      "Test:  0.8437539632213062\n",
      "________________________________\n",
      "40\n"
     ]
    },
    {
     "name": "stderr",
     "output_type": "stream",
     "text": [
      "/home/timur/anaconda3/lib/python3.6/site-packages/ipykernel_launcher.py:65: RuntimeWarning: overflow encountered in exp\n",
      "/home/timur/anaconda3/lib/python3.6/site-packages/ipykernel_launcher.py:80: RuntimeWarning: overflow encountered in exp\n"
     ]
    },
    {
     "name": "stdout",
     "output_type": "stream",
     "text": [
      "Train:  0.8517376148727157\n",
      "Test:  0.8488268864933418\n",
      "________________________________\n",
      "100\n"
     ]
    },
    {
     "name": "stderr",
     "output_type": "stream",
     "text": [
      "/home/timur/anaconda3/lib/python3.6/site-packages/ipykernel_launcher.py:65: RuntimeWarning: overflow encountered in exp\n",
      "/home/timur/anaconda3/lib/python3.6/site-packages/ipykernel_launcher.py:80: RuntimeWarning: overflow encountered in exp\n"
     ]
    },
    {
     "name": "stdout",
     "output_type": "stream",
     "text": [
      "Train:  0.8510404563219605\n",
      "Test:  0.8467977171845276\n",
      "________________________________\n",
      "300\n"
     ]
    },
    {
     "name": "stderr",
     "output_type": "stream",
     "text": [
      "/home/timur/anaconda3/lib/python3.6/site-packages/ipykernel_launcher.py:65: RuntimeWarning: overflow encountered in exp\n",
      "/home/timur/anaconda3/lib/python3.6/site-packages/ipykernel_launcher.py:80: RuntimeWarning: overflow encountered in exp\n"
     ]
    },
    {
     "name": "stdout",
     "output_type": "stream",
     "text": [
      "Train:  0.8599767613816415\n",
      "Test:  0.8584654407102092\n",
      "________________________________\n"
     ]
    }
   ],
   "source": [
    "for n_komp in [10,20,30,40,100,300]:\n",
    "    print(n_komp)\n",
    "    pca = PCA(n_components=n_komp)\n",
    "    pca.fit(X_train)\n",
    "\n",
    "    X_train_pca = pca.transform(X_train)\n",
    "    X_test_pca = pca.transform(X_test)\n",
    "\n",
    "    model = LogisticRegressionBinary(alpha = 0.9, C = 1.1, learning_rate = 0.006, max_iter = 20, eps = 10e-6, batch_size = 64, shuffle=True)\n",
    "    train_test(model, X_train_pca, y_train_parity, X_test_pca, y_test_parity)\n",
    "    print(\"________________________________\")"
   ]
  },
  {
   "cell_type": "code",
   "execution_count": 39,
   "metadata": {},
   "outputs": [
    {
     "name": "stdout",
     "output_type": "stream",
     "text": [
      "Train:  0.7922256258582444\n",
      "Test:  0.7968294229549778\n"
     ]
    }
   ],
   "source": [
    "pca = PCA(n_components=300)\n",
    "\n",
    "pca.fit(X_train)\n",
    "\n",
    "X_train_pca = pca.transform(X_train)\n",
    "X_test_pca = pca.transform(X_test)\n"
   ]
  },
  {
   "cell_type": "code",
   "execution_count": 41,
   "metadata": {},
   "outputs": [
    {
     "name": "stderr",
     "output_type": "stream",
     "text": [
      "/home/timur/anaconda3/lib/python3.6/site-packages/ipykernel_launcher.py:65: RuntimeWarning: overflow encountered in exp\n",
      "/home/timur/anaconda3/lib/python3.6/site-packages/ipykernel_launcher.py:80: RuntimeWarning: overflow encountered in exp\n"
     ]
    },
    {
     "name": "stdout",
     "output_type": "stream",
     "text": [
      "Train:  0.850068659554241\n",
      "Test:  0.8459099556119214\n"
     ]
    }
   ],
   "source": [
    "model = LogisticRegressionBinary(alpha = 0.9, C = 1.1, learning_rate = 0.01, max_iter = 30, eps = 10e-6, batch_size = 64, shuffle=True)\n",
    "train_test(model, X_train_pca, y_train_parity, X_test_pca, y_test_parity)"
   ]
  }
 ],
 "metadata": {
  "kernelspec": {
   "display_name": "Python 3",
   "language": "python",
   "name": "python3"
  },
  "language_info": {
   "codemirror_mode": {
    "name": "ipython",
    "version": 3
   },
   "file_extension": ".py",
   "mimetype": "text/x-python",
   "name": "python",
   "nbconvert_exporter": "python",
   "pygments_lexer": "ipython3",
   "version": "3.6.10"
  }
 },
 "nbformat": 4,
 "nbformat_minor": 4
}
